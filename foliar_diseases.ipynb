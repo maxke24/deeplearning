{
  "cells":[
    {
      "cell_type":"markdown",
      "source":[
        "# Plant Pathology\n",
        "*Identify the category of foliar diseases in apple trees.*"
      ],
      "metadata":{
        
      }
    },
    {
      "cell_type":"markdown",
      "source":[
        "Folder structuur voor een snel en makkelijk overzicht:\n",
        "```bash\n",
        ".\n",
        "├───datasets\n",
        "│   └───train.csv\n",
        "├───images\n",
        "│   ├───resized_train_images\n",
        "│   └───train_images\n",
        "├───foliar_diseases.ipynb\n",
        "└───image_resizer.ipynb\n",
        "```"
      ],
      "metadata":{
        
      }
    },
    {
      "cell_type":"markdown",
      "source":[
        "\n",
        "## 0. Modules importeren"
      ],
      "metadata":{
        
      }
    },
    {
      "cell_type":"code",
      "source":[
        "import os\n",
        "os.environ[\"KERAS_BACKEND\"] = \"tensorflow\"\n",
        "import numpy as np\n",
        "import pandas as pd\n",
        "import matplotlib.pyplot as plt\n",
        "\n",
        "from sklearn.model_selection import train_test_split\n",
        "from sklearn.metrics import classification_report\n",
        "from sklearn.metrics import confusion_matrix, accuracy_score\n",
        "from sklearn.preprocessing import OneHotEncoder\n",
        "from sklearn import preprocessing\n",
        "\n",
        "import matplotlib.image as mpimg\n",
        "from skimage.io import imread, imshow\n",
        "from skimage import data, color, io, filters, morphology,transform, exposure, feature, util\n",
        "from scipy import ndimage\n",
        "#importeer Tensorflow namespaces\n",
        "import keras\n",
        "from tensorflow.python.keras.models import Sequential\n",
        "from tensorflow.python.keras.layers import Activation\n",
        "from keras.optimizers import SGD\n",
        "from tensorflow.python.keras.layers import Dense, Dropout, Flatten, BatchNormalization\n",
        "from tensorflow.python.keras.layers import Conv2D, MaxPooling2D\n",
        "from tensorflow.python.keras.callbacks import EarlyStopping\n",
        "from keras import backend as K\n",
        "from keras.utils import np_utils\n",
        "from keras.preprocessing import image\n",
        "from keras.utils.np_utils import to_categorical\n",
        "import cv2\n",
        "import tensorflow\n",
        "\n",
        "\n",
        "\n",
        "import tensorflow.compat.v1 as tf\n",
        "tf.disable_v2_behavior()\n",
        "\n",
        "device_name=\"\/gpu:0\"\n",
        "from tensorflow.compat.v1 import ConfigProto\n",
        "from tensorflow.compat.v1 import InteractiveSession\n",
        "\n",
        "config = ConfigProto()\n",
        "config.gpu_options.allow_growth = True\n",
        "session = InteractiveSession(config=config)\n",
        "\n",
        "#K.set_image_dim_ordering('tf')"
      ],
      "execution_count":0,
      "outputs":[
        
      ],
      "metadata":{
        
      }
    },
    {
      "cell_type":"markdown",
      "source":[
        "## 1. Data inlezen."
      ],
      "metadata":{
        
      }
    },
    {
      "cell_type":"markdown",
      "source":[
        "### We maken een lijst van alle fotos in onze dataset.\n",
        "\\> lijst met lables  \n",
        "\\> lijst met fotos"
      ],
      "metadata":{
        
      }
    },
    {
      "cell_type":"code",
      "source":[
        "directory = \"images\/resized_train_images\/\"\n",
        "labels = pd.read_csv(\"datasets\/train.csv\")\n",
        "label = labels[\"labels\"].tolist()\n",
        "images = labels[\"image\"].tolist()\n",
        "print(label[0], images[0])\n",
        "img = io.imread(directory + images[0])\/255\n",
        "width = img.shape[0]\n",
        "height = img.shape[1]"
      ],
      "execution_count":0,
      "outputs":[
        
      ],
      "metadata":{
        
      }
    },
    {
      "cell_type":"markdown",
      "source":[
        "### LabelEncoder gebruiken om labels naar integers te converteren."
      ],
      "metadata":{
        
      }
    },
    {
      "cell_type":"code",
      "source":[
        "le = preprocessing.LabelEncoder()\n",
        "le.fit(np.array(label).reshape(-1,))\n",
        "y_encoded = le.transform(np.array(label).reshape(-1,))\n",
        "print(y_encoded)"
      ],
      "execution_count":0,
      "outputs":[
        
      ],
      "metadata":{
        
      }
    },
    {
      "cell_type":"markdown",
      "source":[
        "### Fotos inlezen."
      ],
      "metadata":{
        
      }
    },
    {
      "cell_type":"code",
      "source":[
        "X = np.zeros((len(y_encoded),width,height,3)).astype(np.float32)\n",
        "\n",
        "for i,img in enumerate(images):\n",
        "    image = io.imread(directory + img)\/255\n",
        "    resized_image = image.astype(np.float32)\n",
        "    X[i]=resized_image"
      ],
      "execution_count":0,
      "outputs":[
        
      ],
      "metadata":{
        
      }
    },
    {
      "cell_type":"markdown",
      "source":[
        "### Train -en testsplits maken."
      ],
      "metadata":{
        
      }
    },
    {
      "cell_type":"code",
      "source":[
        "X_train, X_test, y_train, y_test = train_test_split(X, y_encoded, test_size=0.33, random_state=1234)\n",
        "\n",
        "print(X_train.shape)\n",
        "print(y_train.shape)"
      ],
      "execution_count":0,
      "outputs":[
        
      ],
      "metadata":{
        
      }
    },
    {
      "cell_type":"markdown",
      "source":[
        "### De uitkomst one-hot-encoderen."
      ],
      "metadata":{
        
      }
    },
    {
      "cell_type":"code",
      "source":[
        "y_train_onehot = to_categorical(y_train)"
      ],
      "execution_count":0,
      "outputs":[
        
      ],
      "metadata":{
        
      }
    },
    {
      "cell_type":"markdown",
      "source":[
        "## 2. Basic CNN model"
      ],
      "metadata":{
        
      }
    },
    {
      "cell_type":"markdown",
      "source":[
        "### Model builden, compileren en trainen:\n",
        "\n",
        "We gebruiken een 'sequential model':\n",
        "\n",
        "\\> *Convolutional*:\n",
        " - 32 Feature maps + ReLU activation function  \n",
        " - MAX pooling\n",
        " - Batch Normalization\n",
        "\n",
        "\\> *Neural Network*:\n",
        " - Flatten (2D foto omzetten in een array)  \n",
        " - ReLU activation function  \n",
        " - Softmax activation function (12 outputs -> 11 plantenziekten + gezonde plant)"
      ],
      "metadata":{
        
      }
    },
    {
      "cell_type":"code",
      "source":[
        "# Architecture\n",
        "\n",
        "input_shape=(width,height,3)\n",
        "\n",
        "model = Sequential()\n",
        "\n",
        "model.add(Conv2D(32, kernel_size=(3, 3), activation='relu',input_shape=(input_shape))) \n",
        "model.add(MaxPooling2D(pool_size=(2, 2)))\n",
        "model.add(BatchNormalization())\n",
        "    \n",
        "model.add(Flatten()) \n",
        "model.add(Dense(50, activation='relu')) \n",
        "model.add(Dense(12, activation='softmax'))\n",
        "\n",
        "# Compile\n",
        "model.compile(loss='categorical_crossentropy',\n",
        "              optimizer='adam',\n",
        "              metrics=['accuracy'])\n",
        "with tf.device(device_name):\n",
        "    # Train \n",
        "    early_stopping =  EarlyStopping(patience=10)\n",
        "\n",
        "    fit1 = model.fit(X_train, y_train_onehot,batch_size=32, epochs=100,\n",
        "                        validation_split=0.2,  callbacks=[early_stopping], verbose=1)"
      ],
      "execution_count":0,
      "outputs":[
        
      ],
      "metadata":{
        
      }
    },
    {
      "cell_type":"markdown",
      "source":[
        "### Plotten"
      ],
      "metadata":{
        
      }
    },
    {
      "cell_type":"code",
      "source":[
        "# Accuray \n",
        "plt.plot(fit1.history['acc'],'b', fit1.history['val_acc'],'r')\n",
        "\n",
        "plt.title('model accuracy')\n",
        "plt.ylabel('accuracy')\n",
        "plt.xlabel('epoch')\n",
        "plt.legend(['train', 'val'], loc='upper left')\n",
        "plt.show()\n",
        "# Loss \n",
        "plt.plot(fit1.history['loss'],'b', fit1.history['val_loss'],'r')\n",
        "\n",
        "plt.title('model loss')\n",
        "plt.ylabel('loss')\n",
        "plt.xlabel('epoch')\n",
        "plt.legend(['train', 'val'], loc='upper left')\n",
        "plt.show()"
      ],
      "execution_count":0,
      "outputs":[
        
      ],
      "metadata":{
        
      }
    },
    {
      "cell_type":"markdown",
      "source":[
        "Uiteindelijk komen we op een accuracy\/accuraatheid van 39,61%. **TO EDIT**"
      ],
      "metadata":{
        
      }
    },
    {
      "cell_type":"markdown",
      "source":[
        "## 3. Data augmentatie"
      ],
      "metadata":{
        
      }
    },
    {
      "cell_type":"markdown",
      "source":[
        "### Train\/Validatie split"
      ],
      "metadata":{
        
      }
    },
    {
      "cell_type":"code",
      "source":[
        "# splitting\n",
        "X_train2, X_val, y_train2, y_val = train_test_split(X_train, y_train, test_size=0.2, random_state=123)\n",
        "\n",
        "# one-hot encoding\n",
        "y_train2_onehot = to_categorical(y_train2)\n",
        "y_val_onehot = to_categorical(y_val)"
      ],
      "execution_count":0,
      "outputs":[
        
      ],
      "metadata":{
        
      }
    },
    {
      "cell_type":"markdown",
      "source":[
        "### Model builden en compileren."
      ],
      "metadata":{
        
      }
    },
    {
      "cell_type":"code",
      "source":[
        "# Model\n",
        "input_shape=(width,height,3)\n",
        "\n",
        "def get_model():\n",
        "    model = Sequential()\n",
        "\n",
        "    model.add(Conv2D(32, kernel_size=(3, 3), activation='relu',input_shape=(input_shape))) \n",
        "    model.add(MaxPooling2D(pool_size=(2, 2)))\n",
        "    model.add(BatchNormalization())\n",
        "    \n",
        "    model.add(Flatten()) \n",
        "    model.add(Dense(50, activation='relu')) \n",
        "    model.add(Dense(12, activation='softmax'))\n",
        "    return(model)\n",
        "\n",
        "model = get_model() \n",
        "\n",
        "model.compile(loss='categorical_crossentropy',\n",
        "              optimizer='adam',\n",
        "              metrics=['accuracy'])"
      ],
      "execution_count":0,
      "outputs":[
        
      ],
      "metadata":{
        
      }
    },
    {
      "cell_type":"markdown",
      "source":[
        "### ImageDataGenerator initiëren."
      ],
      "metadata":{
        
      }
    },
    {
      "cell_type":"code",
      "source":[
        "from keras.preprocessing.image import ImageDataGenerator\n",
        "aug = ImageDataGenerator()\n",
        " "
      ],
      "execution_count":0,
      "outputs":[
        
      ],
      "metadata":{
        
      }
    },
    {
      "cell_type":"markdown",
      "source":[
        "### Model trainen.\n",
        "Aan de hand van 100 Epochs"
      ],
      "metadata":{
        
      }
    },
    {
      "cell_type":"code",
      "source":[
        "early_stopping =  EarlyStopping(patience=5)\n",
        "fit2_aug = model.fit_generator(aug.flow(X_train2, y_train2_onehot,batch_size=32), epochs=100,\n",
        "                    steps_per_epoch=len(X_train2) \/\/ 32, callbacks=[early_stopping], verbose=1,validation_data = (X_val,y_val_onehot))\n"
      ],
      "execution_count":0,
      "outputs":[
        
      ],
      "metadata":{
        
      }
    },
    {
      "cell_type":"markdown",
      "source":[
        "### Plot vergelijken met plot in stap 2."
      ],
      "metadata":{
        
      }
    },
    {
      "cell_type":"code",
      "source":[
        "plt.plot( fit1.history['val_loss'],'g', fit2_aug.history['val_loss'],'b')\n",
        "\n",
        "plt.title('model loss')\n",
        "plt.ylabel('loss')\n",
        "plt.xlabel('epoch')\n",
        "plt.legend(['model', 'models_with_aug'], loc='upper left')\n",
        "plt.show()"
      ],
      "execution_count":0,
      "outputs":[
        
      ],
      "metadata":{
        
      }
    },
    {
      "cell_type":"markdown",
      "source":[
        "**TODO: CONCLUSION**"
      ],
      "metadata":{
        
      }
    },
    {
      "cell_type":"markdown",
      "source":[
        "## 4. Transfer learning via VGG19"
      ],
      "metadata":{
        
      }
    },
    {
      "cell_type":"markdown",
      "source":[
        "### VGG19 Model initialiseren"
      ],
      "metadata":{
        
      }
    },
    {
      "cell_type":"code",
      "source":[
        "modelVGG19 = tensorflow.keras.applications.vgg19.VGG19(include_top=False, weights='imagenet', input_shape=(width,height,3))\n",
        "type(modelVGG19)"
      ],
      "execution_count":0,
      "outputs":[
        
      ],
      "metadata":{
        
      }
    },
    {
      "cell_type":"markdown",
      "source":[
        "### VGG19 model omzetten naar sequentieel model."
      ],
      "metadata":{
        
      }
    },
    {
      "cell_type":"code",
      "source":[
        "# Store as a sequential model.\n",
        "\n",
        "model = Sequential()\n",
        "\n",
        "for layer in modelVGG19.layers[:]:\n",
        "    model.add(layer)\n",
        "\n",
        "model.summary()"
      ],
      "execution_count":0,
      "outputs":[
        
      ],
      "metadata":{
        
      }
    },
    {
      "cell_type":"markdown",
      "source":[
        "### Layers in het model vastzetten."
      ],
      "metadata":{
        
      }
    },
    {
      "cell_type":"code",
      "source":[
        "for layer in model.layers:\n",
        "    layer.trainable = False"
      ],
      "execution_count":0,
      "outputs":[
        
      ],
      "metadata":{
        
      }
    },
    {
      "cell_type":"markdown",
      "source":[
        "### Top layers toevoegen aan het model\n",
        "\n",
        " - Flatten  \n",
        " - ReLU activation function  \n",
        " - Softmax activation function (12 outputs -> 11 plantenziekten + gezonde plant)"
      ],
      "metadata":{
        
      }
    },
    {
      "cell_type":"code",
      "source":[
        "model.add(Flatten()) \n",
        "model.add(Dense(100, activation='relu')) \n",
        "model.add(Dense(12, activation='softmax'))"
      ],
      "execution_count":0,
      "outputs":[
        
      ],
      "metadata":{
        
      }
    },
    {
      "cell_type":"markdown",
      "source":[
        "### Model compileren en trainen"
      ],
      "metadata":{
        
      }
    },
    {
      "cell_type":"code",
      "source":[
        "#Compile\n",
        "model.compile(loss='categorical_crossentropy',optimizer ='adam',metrics=['accuracy'])\n",
        "model.summary()\n",
        "\n",
        "# Train\n",
        "batch_size = 32\n",
        "early_stopping =  EarlyStopping(patience=3)\n",
        "history = model.fit(X_train, y_train_onehot,batch_size=batch_size, epochs=100,\n",
        "                    validation_split=0.2, callbacks=[early_stopping])\n"
      ],
      "execution_count":0,
      "outputs":[
        
      ],
      "metadata":{
        
      }
    },
    {
      "cell_type":"markdown",
      "source":[
        "### Vergelijken met vorige modellen aan de hand van de plots\n",
        "(Zie plots uit stap 2 en 3)"
      ],
      "metadata":{
        
      }
    },
    {
      "cell_type":"code",
      "source":[
        "plt.plot( fit1.history['val_loss'],'g', fit2_aug.history['val_loss'],'r', history.history['val_loss'],'b')\n",
        "\n",
        "plt.title('model loss')\n",
        "plt.ylabel('loss')\n",
        "plt.xlabel('epoch')\n",
        "plt.legend(['model1', 'model2_aug', 'model3_transfer_learning'], loc='upper left')\n",
        "plt.show()"
      ],
      "execution_count":0,
      "outputs":[
        
      ],
      "metadata":{
        
      }
    },
    {
      "cell_type":"markdown",
      "source":[
        "**TODO: CONCLUSION**"
      ],
      "metadata":{
        
      }
    },
    {
      "cell_type":"markdown",
      "source":[
        "## 5. Uitvoeren op testset"
      ],
      "metadata":{
        
      }
    },
    {
      "cell_type":"code",
      "source":[
        "test_predict = model.predict_classes(X_test)\n",
        "print(classification_report(y_test, test_predict))"
      ],
      "execution_count":0,
      "outputs":[
        
      ],
      "metadata":{
        
      }
    }
  ],
  "metadata":{
    
  },
  "nbformat":4,
  "nbformat_minor":0
}