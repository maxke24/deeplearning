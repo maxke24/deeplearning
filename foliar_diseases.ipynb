{
 "cells": [
  {
   "cell_type": "markdown",
   "metadata": {},
   "source": [
    "# CNN on the simpsons"
   ]
  },
  {
   "cell_type": "markdown",
   "metadata": {},
   "source": [
    "We have images of two of the simpsons children. The goal is to classify the images, using CNN. "
   ]
  },
  {
   "cell_type": "markdown",
   "metadata": {},
   "source": [
    "# 0. Loading packages"
   ]
  },
  {
   "cell_type": "code",
   "execution_count": 1,
   "metadata": {},
   "outputs": [],
   "source": [
    "import os\n",
    "os.environ[\"KERAS_BACKEND\"] = \"tensorflow\"\n",
    "import numpy as np\n",
    "import pandas as pd\n",
    "import matplotlib.pyplot as plt\n",
    "\n",
    "from sklearn.model_selection import train_test_split\n",
    "from sklearn.metrics import classification_report\n",
    "from sklearn.metrics import confusion_matrix, accuracy_score\n",
    "from sklearn.preprocessing import OneHotEncoder\n",
    "from sklearn import preprocessing\n",
    "\n",
    "import matplotlib.image as mpimg\n",
    "from skimage.io import imread, imshow\n",
    "from skimage import data, color, io, filters, morphology,transform, exposure, feature, util\n",
    "from scipy import ndimage\n",
    "#importeer Tensorflow namespaces\n",
    "import keras\n",
    "from tensorflow.python.keras.models import Sequential\n",
    "from tensorflow.python.keras.layers import Activation\n",
    "from keras.optimizers import SGD\n",
    "from tensorflow.python.keras.layers import Dense, Dropout, Flatten, BatchNormalization\n",
    "from tensorflow.python.keras.layers import Conv2D, MaxPooling2D\n",
    "from tensorflow.python.keras.callbacks import EarlyStopping\n",
    "from keras import backend as K\n",
    "from keras.utils import np_utils\n",
    "from keras.preprocessing import image\n",
    "#K.set_image_dim_ordering('tf')"
   ]
  },
  {
   "cell_type": "markdown",
   "metadata": {},
   "source": [
    "# 1. Reading in data\n",
    "\n",
    "1. Get list of all the images and the labels in the dataset\n",
    "2. Convert the labels to numbers using labelEncoder\n",
    "3. Read in the images\n",
    "    + resize to shape (100,100,3)\n",
    "4. Split in train and test\n",
    "5. One-hot-encode the outcome"
   ]
  },
  {
   "cell_type": "markdown",
   "metadata": {},
   "source": [
    "1. Get list of all the images in the dataset\n",
    "\n",
    "Change the directory to match the path to where you stored the files on your pc."
   ]
  },
  {
   "cell_type": "code",
   "execution_count": 2,
   "metadata": {},
   "outputs": [
    {
     "name": "stdout",
     "output_type": "stream",
     "text": [
      "healthy 800113bb65efe69e.jpg\n"
     ]
    }
   ],
   "source": [
    "directory = \"./train_images/\"\n",
    "labels = pd.read_csv(\"train.csv\")\n",
    "label = labels[\"labels\"].tolist()\n",
    "images = labels[\"image\"].tolist()\n",
    "\n",
    "width = 125\n",
    "height = 125\n",
    "\n",
    "print(label[0], images[0])"
   ]
  },
  {
   "cell_type": "markdown",
   "metadata": {},
   "source": [
    "2. Convert the labels to numbers using labelEncoder"
   ]
  },
  {
   "cell_type": "code",
   "execution_count": 3,
   "metadata": {},
   "outputs": [
    {
     "name": "stdout",
     "output_type": "stream",
     "text": [
      "[ 3 11  9 ...  6 10  3]\n"
     ]
    }
   ],
   "source": [
    "from keras.utils.np_utils import to_categorical\n",
    "\n",
    "le = preprocessing.LabelEncoder()\n",
    "le.fit(np.array(label).reshape(-1,))\n",
    "y_encoded = le.transform(np.array(label).reshape(-1,))\n",
    "print(y_encoded)"
   ]
  },
  {
   "cell_type": "markdown",
   "metadata": {},
   "source": [
    "3. Read in the images"
   ]
  },
  {
   "cell_type": "code",
   "execution_count": 4,
   "metadata": {},
   "outputs": [],
   "source": [
    "import cv2\n",
    "X = np.zeros((len(y_encoded),width,height,3)).astype(np.float32)\n",
    "\n",
    "for i,img in enumerate(images):\n",
    "    image = io.imread(\"train_images/\" + img)/255\n",
    "    resized_image = cv2.resize(image,(width,height)).astype(np.float32)\n",
    "    X[i]=resized_image"
   ]
  },
  {
   "cell_type": "markdown",
   "metadata": {},
   "source": [
    "4. Split in train and test"
   ]
  },
  {
   "cell_type": "code",
   "execution_count": 5,
   "metadata": {},
   "outputs": [
    {
     "name": "stdout",
     "output_type": "stream",
     "text": [
      "(12483, 125, 125, 3)\n",
      "(12483,)\n"
     ]
    }
   ],
   "source": [
    "X_train, X_test, y_train, y_test = train_test_split(X, y_encoded, test_size=0.33, random_state=1234)\n",
    "\n",
    "print(X_train.shape)\n",
    "print(y_train.shape)"
   ]
  },
  {
   "cell_type": "markdown",
   "metadata": {},
   "source": [
    "5. One-hot-encode the outcome"
   ]
  },
  {
   "cell_type": "code",
   "execution_count": 6,
   "metadata": {},
   "outputs": [
    {
     "data": {
      "text/plain": [
       "(12,)"
      ]
     },
     "execution_count": 6,
     "metadata": {},
     "output_type": "execute_result"
    }
   ],
   "source": [
    "y_train_onehot = to_categorical(y_train)\n",
    "\n",
    "y_train_onehot[0].shape"
   ]
  },
  {
   "cell_type": "markdown",
   "metadata": {},
   "source": [
    "# 1. Basic CNN model"
   ]
  },
  {
   "cell_type": "markdown",
   "metadata": {},
   "source": [
    "1. Construct, compile and train a model with following layers\n",
    "\n",
    "    Convolutional part\n",
    "    \n",
    "    + convolution, using 32 feature maps and a kernel size of 2x2\n",
    "    + Max pooling, over, with a 2x2 pool size\n",
    "    + Batch Normalization\n",
    "    + convolution, using 32 feature maps and a kernel size of 2x2\n",
    "    + Max pooling, over, with a 2x2 pool size\n",
    "    + Batch Normalization\n",
    "    \n",
    "    Neural network\n",
    "    \n",
    "    + flatten\n",
    "    + hidden layer with 10 nodes\n",
    "    + output layer with how many nodes?\n",
    "    + Chose the right activation functions, loss and optimizer\n",
    "    + Do early stopping after 5 iterations\n",
    "\n",
    "2. Plot the loss and validated loss over the epochs\n",
    "\n",
    "\n",
    "3. What could you do to improve the accuracy? Try to think of at least three things you could do.\n",
    "    + Don't actually do it. It will take too long.\n",
    "    \n",
    "    "
   ]
  },
  {
   "cell_type": "markdown",
   "metadata": {},
   "source": [
    "1. Build, compile and train the model"
   ]
  },
  {
   "cell_type": "code",
   "execution_count": 7,
   "metadata": {},
   "outputs": [
    {
     "name": "stdout",
     "output_type": "stream",
     "text": [
      "Epoch 1/100\n",
      "313/313 [==============================] - 79s 247ms/step - loss: 2.0110 - accuracy: 0.3563 - val_loss: 1.7186 - val_accuracy: 0.3196\n",
      "Epoch 2/100\n",
      "313/313 [==============================] - 85s 270ms/step - loss: 1.4432 - accuracy: 0.4736 - val_loss: 2.0195 - val_accuracy: 0.3320\n",
      "Epoch 3/100\n",
      "313/313 [==============================] - 82s 263ms/step - loss: 1.1056 - accuracy: 0.5993 - val_loss: 2.3709 - val_accuracy: 0.3664\n",
      "Epoch 4/100\n",
      "313/313 [==============================] - 82s 261ms/step - loss: 0.7929 - accuracy: 0.7270 - val_loss: 3.9575 - val_accuracy: 0.3272\n",
      "Epoch 5/100\n",
      "313/313 [==============================] - 83s 266ms/step - loss: 0.5311 - accuracy: 0.8211 - val_loss: 2.4497 - val_accuracy: 0.3921\n",
      "Epoch 6/100\n",
      "313/313 [==============================] - 83s 264ms/step - loss: 0.3308 - accuracy: 0.8967 - val_loss: 3.4709 - val_accuracy: 0.3837\n",
      "Epoch 7/100\n",
      "313/313 [==============================] - 84s 268ms/step - loss: 0.2200 - accuracy: 0.9285 - val_loss: 4.7547 - val_accuracy: 0.3488\n",
      "Epoch 8/100\n",
      "313/313 [==============================] - 84s 268ms/step - loss: 0.1733 - accuracy: 0.9473 - val_loss: 4.9500 - val_accuracy: 0.3372\n",
      "Epoch 9/100\n",
      "313/313 [==============================] - 83s 265ms/step - loss: 0.1472 - accuracy: 0.9518 - val_loss: 4.3841 - val_accuracy: 0.3905\n",
      "Epoch 10/100\n",
      "313/313 [==============================] - 84s 267ms/step - loss: 0.1274 - accuracy: 0.9565 - val_loss: 5.7814 - val_accuracy: 0.3296\n",
      "Epoch 11/100\n",
      "313/313 [==============================] - 84s 268ms/step - loss: 0.2322 - accuracy: 0.9257 - val_loss: 6.1970 - val_accuracy: 0.3544\n"
     ]
    }
   ],
   "source": [
    "# Architecture\n",
    "\n",
    "input_shape=(width,height,3)\n",
    "\n",
    "model = Sequential()\n",
    "\n",
    "model.add(Conv2D(32, kernel_size=(3, 3), activation='relu',input_shape=(input_shape))) \n",
    "model.add(MaxPooling2D(pool_size=(2, 2)))\n",
    "model.add(BatchNormalization())\n",
    "    \n",
    "model.add(Flatten()) \n",
    "model.add(Dense(50, activation='relu')) \n",
    "model.add(Dense(12, activation='softmax'))\n",
    "\n",
    "# Compile\n",
    "model.compile(loss='categorical_crossentropy',\n",
    "              optimizer='adam',\n",
    "              metrics=['accuracy'])\n",
    "\n",
    "# Train \n",
    "early_stopping =  EarlyStopping(patience=10)\n",
    "\n",
    "fit1 = model.fit(X_train, y_train_onehot,batch_size=32, epochs=100,\n",
    "                    validation_split=0.2,  callbacks=[early_stopping], verbose=1)\n"
   ]
  },
  {
   "cell_type": "markdown",
   "metadata": {},
   "source": [
    "2. Plot"
   ]
  },
  {
   "cell_type": "code",
   "execution_count": 8,
   "metadata": {},
   "outputs": [
    {
     "data": {
      "image/png": "[encoded data removed]",
      "text/plain": [
       "<Figure size 432x288 with 1 Axes>"
      ]
     },
     "metadata": {
      "needs_background": "light"
     },
     "output_type": "display_data"
    },
    {
     "data": {
      "image/png": "[encoded data removed]",
      "text/plain": [
       "<Figure size 432x288 with 1 Axes>"
      ]
     },
     "metadata": {
      "needs_background": "light"
     },
     "output_type": "display_data"
    }
   ],
   "source": [
    "# Accuray \n",
    "plt.plot(fit1.history['accuracy'],'b', fit1.history['val_accuracy'],'r')\n",
    "\n",
    "plt.title('model accuracy')\n",
    "plt.ylabel('accuracy')\n",
    "plt.xlabel('epoch')\n",
    "plt.legend(['train', 'val'], loc='upper left')\n",
    "plt.show()\n",
    "# Loss \n",
    "plt.plot(fit1.history['loss'],'b', fit1.history['val_loss'],'r')\n",
    "\n",
    "plt.title('model loss')\n",
    "plt.ylabel('loss')\n",
    "plt.xlabel('epoch')\n",
    "plt.legend(['train', 'val'], loc='upper left')\n",
    "plt.show()"
   ]
  },
  {
   "cell_type": "markdown",
   "metadata": {},
   "source": [
    "We ended with a accuracy of 67,25%. This is ok.  What could you do to improve it?"
   ]
  },
  {
   "cell_type": "markdown",
   "metadata": {},
   "source": [
    "3. Improve"
   ]
  },
  {
   "cell_type": "markdown",
   "metadata": {},
   "source": [
    "You can do different things\n",
    "    + adding layers (convolutional or dense layers)\n",
    "    + Increasing the nodes\n",
    "    + Using image augmentation\n",
    "    ..."
   ]
  },
  {
   "cell_type": "markdown",
   "metadata": {},
   "source": [
    "# 2. Data augmentation\n",
    "One thing you can do to improve the results, is adding more data through data augmentation.\n",
    "\n",
    "1. Split the  trainingset into train and validation set \n",
    "    + Don't forget to one-hot-encode the outcome again\n",
    "2. Build and compile the model, using the same parameters as before\n",
    "3. Initiate ImageDataGenerator\n",
    "4. Train the model\n",
    "5. Make a plot to compare this model to the previous model (with regard to the evolution of the validated loss over the epochs).\n"
   ]
  },
  {
   "cell_type": "markdown",
   "metadata": {},
   "source": [
    "1. Train/validation split"
   ]
  },
  {
   "cell_type": "code",
   "execution_count": 9,
   "metadata": {},
   "outputs": [],
   "source": [
    "# splitting\n",
    "X_train2, X_val, y_train2, y_val = train_test_split(X_train, y_train, test_size=0.2, random_state=123)\n",
    "\n",
    "# one-hot encoding\n",
    "y_train2_onehot = to_categorical(y_train2)\n",
    "y_val_onehot = to_categorical(y_val)"
   ]
  },
  {
   "cell_type": "markdown",
   "metadata": {},
   "source": [
    "2. Build and compile the model"
   ]
  },
  {
   "cell_type": "code",
   "execution_count": 10,
   "metadata": {},
   "outputs": [],
   "source": [
    "# Model\n",
    "input_shape=(width,height,3)\n",
    "\n",
    "def get_model():\n",
    "    model = Sequential()\n",
    "\n",
    "    model.add(Conv2D(32, kernel_size=(3, 3), activation='relu',input_shape=(input_shape))) \n",
    "    model.add(MaxPooling2D(pool_size=(2, 2)))\n",
    "    model.add(BatchNormalization())\n",
    "    \n",
    "    model.add(Flatten()) \n",
    "    model.add(Dense(50, activation='relu')) \n",
    "    model.add(Dense(12, activation='softmax'))\n",
    "    return(model)\n",
    "\n",
    "model = get_model() \n",
    "\n",
    "model.compile(loss='categorical_crossentropy',\n",
    "              optimizer='adam',\n",
    "              metrics=['accuracy'])\n"
   ]
  },
  {
   "cell_type": "markdown",
   "metadata": {},
   "source": [
    "3. Initiate ImageDataGenerator"
   ]
  },
  {
   "cell_type": "code",
   "execution_count": 11,
   "metadata": {},
   "outputs": [],
   "source": [
    "from keras.preprocessing.image import ImageDataGenerator\n",
    "aug = ImageDataGenerator()\n",
    " \n"
   ]
  },
  {
   "cell_type": "markdown",
   "metadata": {},
   "source": [
    "4. Train the model"
   ]
  },
  {
   "cell_type": "code",
   "execution_count": null,
   "metadata": {},
   "outputs": [
    {
     "name": "stderr",
     "output_type": "stream",
     "text": [
      "/home/jelle/.local/lib/python3.9/site-packages/tensorflow/python/keras/engine/training.py:1940: UserWarning: `Model.fit_generator` is deprecated and will be removed in a future version. Please use `Model.fit`, which supports generators.\n",
      "  warnings.warn('`Model.fit_generator` is deprecated and '\n"
     ]
    },
    {
     "name": "stdout",
     "output_type": "stream",
     "text": [
      "Epoch 1/100\n",
      "312/312 [==============================] - ETA: 0s - loss: 1.7841 - accuracy: 0.3940"
     ]
    }
   ],
   "source": [
    "early_stopping =  EarlyStopping(patience=5)\n",
    "fit2_aug = model.fit_generator(aug.flow(X_train2, y_train2_onehot,batch_size=32), epochs=100,\n",
    "                    steps_per_epoch=len(X_train2) // 32, callbacks=[early_stopping], verbose=1,validation_data = (X_val,y_val_onehot))\n",
    "\n"
   ]
  },
  {
   "cell_type": "markdown",
   "metadata": {},
   "source": [
    "5. Compare plots"
   ]
  },
  {
   "cell_type": "code",
   "execution_count": null,
   "metadata": {},
   "outputs": [],
   "source": [
    "plt.plot( fit1.history['val_loss'],'g', fit2_aug.history['val_loss'],'b')\n",
    "\n",
    "plt.title('model loss')\n",
    "plt.ylabel('loss')\n",
    "plt.xlabel('epoch')\n",
    "plt.legend(['model', 'models_with_aug'], loc='upper left')\n",
    "plt.show()"
   ]
  },
  {
   "cell_type": "markdown",
   "metadata": {},
   "source": [
    "This is slightly better."
   ]
  },
  {
   "cell_type": "markdown",
   "metadata": {},
   "source": [
    "# 3. Transfer learning via VGG19 \n",
    "\n",
    "In transfer learning, you use a pre-trained model. We will use the VGG19-model. \n",
    "\n",
    "1. download the VGG19-model\n",
    "    + Use  the correct input shape (the size of the images)\n",
    "    + use include_top=False\n",
    "2. Store the model as a sequential model\n",
    "3. Fix the layers of the model\n",
    "4. Add the top layers of the model (the neural network that will do the classification)\n",
    "5. Compile and train\n",
    "6. Compare to other models using the same plot as before\n",
    "7. Evaluate your best model of this labo on the test-set, using the classification report"
   ]
  },
  {
   "cell_type": "markdown",
   "metadata": {},
   "source": [
    "1. Download the model"
   ]
  },
  {
   "cell_type": "code",
   "execution_count": null,
   "metadata": {},
   "outputs": [],
   "source": [
    "import tensorflow\n",
    "modelVGG19 = tensorflow.keras.applications.vgg19.VGG19(include_top=False, weights='imagenet', input_shape=(200,200,3))\n",
    "type(modelVGG19)"
   ]
  },
  {
   "cell_type": "markdown",
   "metadata": {},
   "source": [
    "2. Store the model as sequential"
   ]
  },
  {
   "cell_type": "code",
   "execution_count": null,
   "metadata": {},
   "outputs": [],
   "source": [
    "# Store as a sequential model.\n",
    "\n",
    "model = Sequential()\n",
    "\n",
    "for layer in modelVGG19.layers[:]:\n",
    "    model.add(layer)\n",
    "\n",
    "model.summary()"
   ]
  },
  {
   "cell_type": "markdown",
   "metadata": {},
   "source": [
    "3. Fix the layers of the model"
   ]
  },
  {
   "cell_type": "code",
   "execution_count": null,
   "metadata": {},
   "outputs": [],
   "source": [
    "\n",
    "for layer in model.layers:\n",
    "    layer.trainable = False\n"
   ]
  },
  {
   "cell_type": "markdown",
   "metadata": {},
   "source": [
    "4. Add the top layers of the model"
   ]
  },
  {
   "cell_type": "code",
   "execution_count": null,
   "metadata": {},
   "outputs": [],
   "source": [
    "model.add(Flatten()) \n",
    "model.add(Dense(100, activation='relu')) \n",
    "model.add(Dense(12, activation='softmax'))"
   ]
  },
  {
   "cell_type": "markdown",
   "metadata": {},
   "source": [
    "5. Compile and train the model"
   ]
  },
  {
   "cell_type": "code",
   "execution_count": null,
   "metadata": {
    "tags": []
   },
   "outputs": [],
   "source": [
    "#Compile\n",
    "model.compile(loss='categorical_crossentropy',optimizer ='adam',metrics=['accuracy'])\n",
    "model.summary()\n",
    "\n",
    "# Train\n",
    "batch_size = 32\n",
    "early_stopping =  EarlyStopping(patience=3)\n",
    "history = model.fit(X_train, y_train_onehot,batch_size=batch_size, epochs=100,\n",
    "                    validation_split=0.2, callbacks=[early_stopping])\n",
    "\n"
   ]
  },
  {
   "cell_type": "markdown",
   "metadata": {},
   "source": [
    "6. Compare with previous models using a plot"
   ]
  },
  {
   "cell_type": "code",
   "execution_count": null,
   "metadata": {},
   "outputs": [],
   "source": [
    "plt.plot( fit1.history['val_loss'],'g', fit2_aug.history['val_loss'],'r', history.history['val_loss'],'b')\n",
    "\n",
    "plt.title('model loss')\n",
    "plt.ylabel('loss')\n",
    "plt.xlabel('epoch')\n",
    "plt.legend(['model1', 'model2_aug', 'model3_transfer_learning'], loc='upper left')\n",
    "plt.show()"
   ]
  },
  {
   "cell_type": "markdown",
   "metadata": {},
   "source": [
    "This is the best model so far, so we choose this model and evaluate on the test set."
   ]
  },
  {
   "cell_type": "markdown",
   "metadata": {},
   "source": [
    "7. Evaluate on test set"
   ]
  },
  {
   "cell_type": "code",
   "execution_count": null,
   "metadata": {},
   "outputs": [],
   "source": [
    "test_predict = model.predict_classes(X_test)\n",
    "print(classification_report(y_test, test_predict))\n"
   ]
  },
  {
   "cell_type": "code",
   "execution_count": null,
   "metadata": {},
   "outputs": [],
   "source": []
  }
 ],
 "metadata": {
  "kernelspec": {
   "display_name": "Python 3",
   "language": "python",
   "name": "python3"
  },
  "language_info": {
   "codemirror_mode": {
    "name": "ipython",
    "version": 3
   },
   "file_extension": ".py",
   "mimetype": "text/x-python",
   "name": "python",
   "nbconvert_exporter": "python",
   "pygments_lexer": "ipython3",
   "version": "3.9.2"
  }
 },
 "nbformat": 4,
 "nbformat_minor": 4
}
