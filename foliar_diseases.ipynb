{
 "cells": [
  {
   "cell_type": "markdown",
   "metadata": {},
   "source": [
    "# Plant Pathology\n",
    "*Identify the category of foliar diseases in apple trees.*"
   ]
  },
  {
   "cell_type": "markdown",
   "metadata": {},
   "source": [
    "Folder structuur voor een snel en makkelijk overzicht:\n",
    "```bash\n",
    ".\n",
    "├───datasets\n",
    "│   └───train.csv\n",
    "├───images\n",
    "│   ├───resized_train_images\n",
    "│   └───train_images\n",
    "├───foliar_diseases.ipynb\n",
    "└───image_resizer.ipynb\n",
    "```"
   ]
  },
  {
   "cell_type": "markdown",
   "metadata": {},
   "source": [
    "\n",
    "## 0. Modules importeren"
   ]
  },
  {
   "cell_type": "code",
   "execution_count": 1,
   "metadata": {},
   "outputs": [],
   "source": [
    "import os\n",
    "os.environ[\"KERAS_BACKEND\"] = \"tensorflow\"\n",
    "import numpy as np\n",
    "import pandas as pd\n",
    "import matplotlib.pyplot as plt\n",
    "\n",
    "from sklearn.model_selection import train_test_split\n",
    "from sklearn.metrics import classification_report\n",
    "from sklearn.metrics import confusion_matrix, accuracy_score\n",
    "from sklearn.preprocessing import OneHotEncoder\n",
    "from sklearn import preprocessing\n",
    "\n",
    "import matplotlib.image as mpimg\n",
    "from skimage.io import imread, imshow\n",
    "from skimage import data, color, io, filters, morphology,transform, exposure, feature, util\n",
    "from scipy import ndimage\n",
    "#importeer Tensorflow namespaces\n",
    "import keras\n",
    "from tensorflow.python.keras.models import Sequential\n",
    "from tensorflow.python.keras.layers import Activation\n",
    "from keras.optimizers import SGD\n",
    "from tensorflow.python.keras.layers import Dense, Dropout, Flatten, BatchNormalization\n",
    "from tensorflow.python.keras.layers import Conv2D, MaxPooling2D\n",
    "from tensorflow.python.keras.callbacks import EarlyStopping\n",
    "from keras import backend as K\n",
    "from keras.utils import np_utils\n",
    "from keras.preprocessing import image\n",
    "from keras.utils.np_utils import to_categorical\n",
    "import cv2\n",
    "import tensorflow as tf"
   ]
  },
  {
   "cell_type": "markdown",
   "metadata": {},
   "source": [
    "## 1. Data inlezen."
   ]
  },
  {
   "cell_type": "markdown",
   "metadata": {},
   "source": [
    "### We maken een lijst van alle fotos in onze dataset.\n",
    "\\> lijst met lables  \n",
    "\\> lijst met fotos"
   ]
  },
  {
   "cell_type": "code",
   "execution_count": 2,
   "metadata": {},
   "outputs": [
    {
     "name": "stdout",
     "output_type": "stream",
     "text": [
      "healthy 800113bb65efe69e.jpg\n"
     ]
    }
   ],
   "source": [
    "directory = \"images/resized_train_images/\"\n",
    "labels = pd.read_csv(\"datasets/train.csv\")\n",
    "label = labels[\"labels\"].tolist()\n",
    "images = labels[\"image\"].tolist()\n",
    "print(label[0], images[0])\n",
    "img = io.imread(directory + images[0])/255\n",
    "width = img.shape[0]\n",
    "height = img.shape[1]"
   ]
  },
  {
   "cell_type": "markdown",
   "metadata": {},
   "source": [
    "### LabelEncoder gebruiken om labels naar integers te converteren."
   ]
  },
  {
   "cell_type": "code",
   "execution_count": 3,
   "metadata": {},
   "outputs": [
    {
     "name": "stdout",
     "output_type": "stream",
     "text": [
      "[ 3 11  9 ...  6 10  3]\n"
     ]
    }
   ],
   "source": [
    "le = preprocessing.LabelEncoder()\n",
    "le.fit(np.array(label).reshape(-1,))\n",
    "y_encoded = le.transform(np.array(label).reshape(-1,))\n",
    "print(y_encoded)"
   ]
  },
  {
   "cell_type": "markdown",
   "metadata": {},
   "source": [
    "### Fotos inlezen."
   ]
  },
  {
   "cell_type": "code",
   "execution_count": 4,
   "metadata": {},
   "outputs": [],
   "source": [
    "X = np.zeros((len(y_encoded),width,height,3)).astype(np.float32)\n",
    "\n",
    "for i,img in enumerate(images):\n",
    "    image = io.imread(directory + img)/255\n",
    "    resized_image = image.astype(np.float32)\n",
    "    X[i]=resized_image"
   ]
  },
  {
   "cell_type": "markdown",
   "metadata": {},
   "source": [
    "### Train -en testsplits maken."
   ]
  },
  {
   "cell_type": "code",
   "execution_count": 5,
   "metadata": {},
   "outputs": [
    {
     "name": "stdout",
     "output_type": "stream",
     "text": [
      "(12483, 175, 175, 3)\n",
      "(12483,)\n"
     ]
    }
   ],
   "source": [
    "X_train, X_test, y_train, y_test = train_test_split(X, y_encoded, test_size=0.33, random_state=1234)\n",
    "\n",
    "print(X_train.shape)\n",
    "print(y_train.shape)"
   ]
  },
  {
   "cell_type": "markdown",
   "metadata": {},
   "source": [
    "### De uitkomst one-hot-encoderen."
   ]
  },
  {
   "cell_type": "code",
   "execution_count": 6,
   "metadata": {},
   "outputs": [],
   "source": [
    "y_train_onehot = to_categorical(y_train)"
   ]
  },
  {
   "cell_type": "markdown",
   "metadata": {},
   "source": [
    "## 2. Transfer learning via VGG19"
   ]
  },
  {
   "cell_type": "markdown",
   "metadata": {},
   "source": [
    "### VGG19 Model initialiseren"
   ]
  },
  {
   "cell_type": "code",
   "execution_count": 7,
   "metadata": {},
   "outputs": [
    {
     "data": {
      "text/plain": [
       "tensorflow.python.keras.engine.functional.Functional"
      ]
     },
     "execution_count": 7,
     "metadata": {},
     "output_type": "execute_result"
    }
   ],
   "source": [
    "modelVGG19 = tf.keras.applications.vgg19.VGG19(include_top=False, weights='imagenet', input_shape=(width,height,3))\n",
    "type(modelVGG19)"
   ]
  },
  {
   "cell_type": "markdown",
   "metadata": {},
   "source": [
    "### VGG19 model omzetten naar sequentieel model."
   ]
  },
  {
   "cell_type": "code",
   "execution_count": 8,
   "metadata": {},
   "outputs": [
    {
     "name": "stdout",
     "output_type": "stream",
     "text": [
      "Model: \"sequential\"\n",
      "_________________________________________________________________\n",
      "Layer (type)                 Output Shape              Param #   \n",
      "=================================================================\n",
      "block1_conv1 (Conv2D)        (None, 175, 175, 64)      1792      \n",
      "_________________________________________________________________\n",
      "block1_conv2 (Conv2D)        (None, 175, 175, 64)      36928     \n",
      "_________________________________________________________________\n",
      "block1_pool (MaxPooling2D)   (None, 87, 87, 64)        0         \n",
      "_________________________________________________________________\n",
      "block2_conv1 (Conv2D)        (None, 87, 87, 128)       73856     \n",
      "_________________________________________________________________\n",
      "block2_conv2 (Conv2D)        (None, 87, 87, 128)       147584    \n",
      "_________________________________________________________________\n",
      "block2_pool (MaxPooling2D)   (None, 43, 43, 128)       0         \n",
      "_________________________________________________________________\n",
      "block3_conv1 (Conv2D)        (None, 43, 43, 256)       295168    \n",
      "_________________________________________________________________\n",
      "block3_conv2 (Conv2D)        (None, 43, 43, 256)       590080    \n",
      "_________________________________________________________________\n",
      "block3_conv3 (Conv2D)        (None, 43, 43, 256)       590080    \n",
      "_________________________________________________________________\n",
      "block3_conv4 (Conv2D)        (None, 43, 43, 256)       590080    \n",
      "_________________________________________________________________\n",
      "block3_pool (MaxPooling2D)   (None, 21, 21, 256)       0         \n",
      "_________________________________________________________________\n",
      "block4_conv1 (Conv2D)        (None, 21, 21, 512)       1180160   \n",
      "_________________________________________________________________\n",
      "block4_conv2 (Conv2D)        (None, 21, 21, 512)       2359808   \n",
      "_________________________________________________________________\n",
      "block4_conv3 (Conv2D)        (None, 21, 21, 512)       2359808   \n",
      "_________________________________________________________________\n",
      "block4_conv4 (Conv2D)        (None, 21, 21, 512)       2359808   \n",
      "_________________________________________________________________\n",
      "block4_pool (MaxPooling2D)   (None, 10, 10, 512)       0         \n",
      "_________________________________________________________________\n",
      "block5_conv1 (Conv2D)        (None, 10, 10, 512)       2359808   \n",
      "_________________________________________________________________\n",
      "block5_conv2 (Conv2D)        (None, 10, 10, 512)       2359808   \n",
      "_________________________________________________________________\n",
      "block5_conv3 (Conv2D)        (None, 10, 10, 512)       2359808   \n",
      "_________________________________________________________________\n",
      "block5_conv4 (Conv2D)        (None, 10, 10, 512)       2359808   \n",
      "_________________________________________________________________\n",
      "block5_pool (MaxPooling2D)   (None, 5, 5, 512)         0         \n",
      "=================================================================\n",
      "Total params: 20,024,384\n",
      "Trainable params: 20,024,384\n",
      "Non-trainable params: 0\n",
      "_________________________________________________________________\n"
     ]
    }
   ],
   "source": [
    "# Store as a sequential model.\n",
    "\n",
    "model = Sequential()\n",
    "\n",
    "for layer in modelVGG19.layers[:]:\n",
    "    model.add(layer)\n",
    "\n",
    "model.summary()"
   ]
  },
  {
   "cell_type": "markdown",
   "metadata": {},
   "source": [
    "### Layers in het model vastzetten."
   ]
  },
  {
   "cell_type": "code",
   "execution_count": 9,
   "metadata": {},
   "outputs": [],
   "source": [
    "for layer in model.layers:\n",
    "    layer.trainable = False"
   ]
  },
  {
   "cell_type": "markdown",
   "metadata": {},
   "source": [
    "### Top layers toevoegen aan het model\n",
    "\n",
    " - Flatten  \n",
    " - ReLU activation function  \n",
    " - Softmax activation function (12 outputs -> 11 plantenziekten + gezonde plant)"
   ]
  },
  {
   "cell_type": "code",
   "execution_count": 10,
   "metadata": {},
   "outputs": [],
   "source": [
    "model.add(Flatten()) \n",
    "model.add(Dense(175, activation='relu'))\n",
    "model.add(Dense(175, activation='relu'))\n",
    "model.add(Dense(175, activation='relu'))\n",
    "model.add(Dense(12, activation='softmax'))"
   ]
  },
  {
   "cell_type": "markdown",
   "metadata": {},
   "source": [
    "### Model compileren en trainen"
   ]
  },
  {
   "cell_type": "code",
   "execution_count": null,
   "metadata": {},
   "outputs": [
    {
     "name": "stdout",
     "output_type": "stream",
     "text": [
      "Model: \"sequential\"\n",
      "_________________________________________________________________\n",
      "Layer (type)                 Output Shape              Param #   \n",
      "=================================================================\n",
      "block1_conv1 (Conv2D)        (None, 175, 175, 64)      1792      \n",
      "_________________________________________________________________\n",
      "block1_conv2 (Conv2D)        (None, 175, 175, 64)      36928     \n",
      "_________________________________________________________________\n",
      "block1_pool (MaxPooling2D)   (None, 87, 87, 64)        0         \n",
      "_________________________________________________________________\n",
      "block2_conv1 (Conv2D)        (None, 87, 87, 128)       73856     \n",
      "_________________________________________________________________\n",
      "block2_conv2 (Conv2D)        (None, 87, 87, 128)       147584    \n",
      "_________________________________________________________________\n",
      "block2_pool (MaxPooling2D)   (None, 43, 43, 128)       0         \n",
      "_________________________________________________________________\n",
      "block3_conv1 (Conv2D)        (None, 43, 43, 256)       295168    \n",
      "_________________________________________________________________\n",
      "block3_conv2 (Conv2D)        (None, 43, 43, 256)       590080    \n",
      "_________________________________________________________________\n",
      "block3_conv3 (Conv2D)        (None, 43, 43, 256)       590080    \n",
      "_________________________________________________________________\n",
      "block3_conv4 (Conv2D)        (None, 43, 43, 256)       590080    \n",
      "_________________________________________________________________\n",
      "block3_pool (MaxPooling2D)   (None, 21, 21, 256)       0         \n",
      "_________________________________________________________________\n",
      "block4_conv1 (Conv2D)        (None, 21, 21, 512)       1180160   \n",
      "_________________________________________________________________\n",
      "block4_conv2 (Conv2D)        (None, 21, 21, 512)       2359808   \n",
      "_________________________________________________________________\n",
      "block4_conv3 (Conv2D)        (None, 21, 21, 512)       2359808   \n",
      "_________________________________________________________________\n",
      "block4_conv4 (Conv2D)        (None, 21, 21, 512)       2359808   \n",
      "_________________________________________________________________\n",
      "block4_pool (MaxPooling2D)   (None, 10, 10, 512)       0         \n",
      "_________________________________________________________________\n",
      "block5_conv1 (Conv2D)        (None, 10, 10, 512)       2359808   \n",
      "_________________________________________________________________\n",
      "block5_conv2 (Conv2D)        (None, 10, 10, 512)       2359808   \n",
      "_________________________________________________________________\n",
      "block5_conv3 (Conv2D)        (None, 10, 10, 512)       2359808   \n",
      "_________________________________________________________________\n",
      "block5_conv4 (Conv2D)        (None, 10, 10, 512)       2359808   \n",
      "_________________________________________________________________\n",
      "block5_pool (MaxPooling2D)   (None, 5, 5, 512)         0         \n",
      "_________________________________________________________________\n",
      "flatten (Flatten)            (None, 12800)             0         \n",
      "_________________________________________________________________\n",
      "dense (Dense)                (None, 175)               2240175   \n",
      "_________________________________________________________________\n",
      "dense_1 (Dense)              (None, 175)               30800     \n",
      "_________________________________________________________________\n",
      "dense_2 (Dense)              (None, 175)               30800     \n",
      "_________________________________________________________________\n",
      "dense_3 (Dense)              (None, 12)                2112      \n",
      "=================================================================\n",
      "Total params: 22,328,271\n",
      "Trainable params: 2,303,887\n",
      "Non-trainable params: 20,024,384\n",
      "_________________________________________________________________\n",
      "Epoch 1/100\n",
      "1249/1249 [==============================] - 77s 60ms/step - loss: 1.7117 - accuracy: 0.3875 - val_loss: 1.5778 - val_accuracy: 0.4165\n",
      "Epoch 2/100\n",
      "1249/1249 [==============================] - 73s 58ms/step - loss: 1.4331 - accuracy: 0.5136 - val_loss: 1.4680 - val_accuracy: 0.4978\n",
      "Epoch 3/100\n",
      "1249/1249 [==============================] - 73s 59ms/step - loss: 1.3069 - accuracy: 0.5594 - val_loss: 1.4338 - val_accuracy: 0.5126\n",
      "Epoch 4/100\n",
      "1249/1249 [==============================] - 73s 59ms/step - loss: 1.2038 - accuracy: 0.6060 - val_loss: 1.3974 - val_accuracy: 0.5350\n",
      "Epoch 5/100\n",
      "1249/1249 [==============================] - 73s 59ms/step - loss: 1.1209 - accuracy: 0.6317 - val_loss: 1.4856 - val_accuracy: 0.5134\n",
      "Epoch 6/100\n",
      "1249/1249 [==============================] - 73s 59ms/step - loss: 1.0482 - accuracy: 0.6591 - val_loss: 1.3946 - val_accuracy: 0.5463\n",
      "Epoch 7/100\n",
      "1249/1249 [==============================] - 73s 59ms/step - loss: 0.9837 - accuracy: 0.6841 - val_loss: 1.5736 - val_accuracy: 0.5302\n",
      "Epoch 8/100\n",
      "1249/1249 [==============================] - 73s 59ms/step - loss: 0.9374 - accuracy: 0.7015 - val_loss: 1.4520 - val_accuracy: 0.5431\n",
      "Epoch 9/100\n",
      "1249/1249 [==============================] - 73s 59ms/step - loss: 0.8929 - accuracy: 0.7120 - val_loss: 1.5085 - val_accuracy: 0.5491\n",
      "Epoch 10/100\n",
      "1249/1249 [==============================] - 73s 59ms/step - loss: 0.8356 - accuracy: 0.7326 - val_loss: 1.5135 - val_accuracy: 0.5463\n",
      "Epoch 11/100\n",
      "1249/1249 [==============================] - 73s 59ms/step - loss: 0.8046 - accuracy: 0.7465 - val_loss: 1.7600 - val_accuracy: 0.5078\n",
      "Epoch 12/100\n",
      "1249/1249 [==============================] - 73s 59ms/step - loss: 0.7562 - accuracy: 0.7600 - val_loss: 1.6357 - val_accuracy: 0.5447\n",
      "Epoch 13/100\n",
      "1249/1249 [==============================] - 73s 59ms/step - loss: 0.7273 - accuracy: 0.7740 - val_loss: 1.6700 - val_accuracy: 0.5455\n",
      "Epoch 14/100\n",
      "1249/1249 [==============================] - 73s 59ms/step - loss: 0.6964 - accuracy: 0.7817 - val_loss: 1.7079 - val_accuracy: 0.5302\n",
      "Epoch 15/100\n",
      "1249/1249 [==============================] - 73s 59ms/step - loss: 0.6790 - accuracy: 0.7859 - val_loss: 1.9492 - val_accuracy: 0.5030\n",
      "Epoch 16/100\n",
      " 390/1249 [========>.....................] - ETA: 40s - loss: 0.6276 - accuracy: 0.7952"
     ]
    }
   ],
   "source": [
    "#Compile\n",
    "model.compile(loss='categorical_crossentropy',optimizer ='adam',metrics=['accuracy'])\n",
    "model.summary()\n",
    "\n",
    "# Train\n",
    "batch_size = 8\n",
    "early_stopping =  EarlyStopping(patience=10, restore_best_weights=True)\n",
    "history = model.fit(X_train, y_train_onehot,batch_size=batch_size, epochs=100,\n",
    "                    validation_split=0.2, callbacks=[early_stopping])\n"
   ]
  },
  {
   "cell_type": "markdown",
   "metadata": {},
   "source": [
    "## 3. Uitvoeren op test set"
   ]
  },
  {
   "cell_type": "code",
   "execution_count": null,
   "metadata": {},
   "outputs": [],
   "source": [
    "test_predict = model.predict_classes(X_test)\n",
    "print(classification_report(y_test, test_predict))"
   ]
  },
  {
   "cell_type": "markdown",
   "metadata": {},
   "source": [
    "## 4. Model opslaan"
   ]
  },
  {
   "cell_type": "code",
   "execution_count": null,
   "metadata": {},
   "outputs": [],
   "source": [
    "model.save(\"bestModel.h5\")"
   ]
  },
  {
   "cell_type": "code",
   "execution_count": null,
   "metadata": {},
   "outputs": [],
   "source": []
  }
 ],
 "metadata": {
  "kernelspec": {
   "display_name": "Python 3",
   "language": "python",
   "name": "python3"
  },
  "language_info": {
   "codemirror_mode": {
    "name": "ipython",
    "version": 3
   },
   "file_extension": ".py",
   "mimetype": "text/x-python",
   "name": "python",
   "nbconvert_exporter": "python",
   "pygments_lexer": "ipython3",
   "version": "3.8.5"
  }
 },
 "nbformat": 4,
 "nbformat_minor": 4
}
