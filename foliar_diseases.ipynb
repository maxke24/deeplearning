{
 "cells": [
  {
   "cell_type": "markdown",
   "metadata": {},
   "source": [
    "# CNN on the simpsons"
   ]
  },
  {
   "cell_type": "markdown",
   "metadata": {},
   "source": [
    "We have images of two of the simpsons children. The goal is to classify the images, using CNN. "
   ]
  },
  {
   "cell_type": "markdown",
   "metadata": {},
   "source": [
    "# 0. Loading packages"
   ]
  },
  {
   "cell_type": "code",
   "execution_count": 1,
   "metadata": {},
   "outputs": [
    {
     "name": "stdout",
     "output_type": "stream",
     "text": [
      "WARNING:tensorflow:From /home/jelle/.local/lib/python3.8/site-packages/tensorflow/python/compat/v2_compat.py:96: disable_resource_variables (from tensorflow.python.ops.variable_scope) is deprecated and will be removed in a future version.\n",
      "Instructions for updating:\n",
      "non-resource variables are not supported in the long term\n"
     ]
    }
   ],
   "source": [
    "import os\n",
    "os.environ[\"KERAS_BACKEND\"] = \"tensorflow\"\n",
    "import numpy as np\n",
    "import pandas as pd\n",
    "import matplotlib.pyplot as plt\n",
    "\n",
    "from sklearn.model_selection import train_test_split\n",
    "from sklearn.metrics import classification_report\n",
    "from sklearn.metrics import confusion_matrix, accuracy_score\n",
    "from sklearn.preprocessing import OneHotEncoder\n",
    "from sklearn import preprocessing\n",
    "\n",
    "import matplotlib.image as mpimg\n",
    "from skimage.io import imread, imshow\n",
    "from skimage import data, color, io, filters, morphology,transform, exposure, feature, util\n",
    "from scipy import ndimage\n",
    "#importeer Tensorflow namespaces\n",
    "import keras\n",
    "from tensorflow.python.keras.models import Sequential\n",
    "from tensorflow.python.keras.layers import Activation\n",
    "from keras.optimizers import SGD\n",
    "from tensorflow.python.keras.layers import Dense, Dropout, Flatten, BatchNormalization\n",
    "from tensorflow.python.keras.layers import Conv2D, MaxPooling2D\n",
    "from tensorflow.python.keras.callbacks import EarlyStopping\n",
    "from keras import backend as K\n",
    "from keras.utils import np_utils\n",
    "from keras.preprocessing import image\n",
    "from keras.utils.np_utils import to_categorical\n",
    "import cv2\n",
    "import tensorflow\n",
    "\n",
    "\n",
    "\n",
    "import tensorflow.compat.v1 as tf\n",
    "tf.disable_v2_behavior()\n",
    "\n",
    "device_name=\"/gpu:0\"\n",
    "from tensorflow.compat.v1 import ConfigProto\n",
    "from tensorflow.compat.v1 import InteractiveSession\n",
    "\n",
    "config = ConfigProto()\n",
    "config.gpu_options.allow_growth = True\n",
    "session = InteractiveSession(config=config)\n",
    "\n",
    "#K.set_image_dim_ordering('tf')"
   ]
  },
  {
   "cell_type": "markdown",
   "metadata": {},
   "source": [
    "# 1. Reading in data\n",
    "\n",
    "1. Get list of all the images and the labels in the dataset\n",
    "2. Convert the labels to numbers using labelEncoder\n",
    "3. Read in the images\n",
    "    + resize to shape (100,100,3)\n",
    "4. Split in train and test\n",
    "5. One-hot-encode the outcome"
   ]
  },
  {
   "cell_type": "markdown",
   "metadata": {},
   "source": [
    "1. Get list of all the images in the dataset\n",
    "\n",
    "Change the directory to match the path to where you stored the files on your pc."
   ]
  },
  {
   "cell_type": "code",
   "execution_count": 2,
   "metadata": {},
   "outputs": [
    {
     "name": "stdout",
     "output_type": "stream",
     "text": [
      "healthy 800113bb65efe69e.jpg\n"
     ]
    }
   ],
   "source": [
    "directory = \"resized_train_images/\"\n",
    "labels = pd.read_csv(\"train.csv\")\n",
    "label = labels[\"labels\"].tolist()\n",
    "images = labels[\"image\"].tolist()\n",
    "print(label[0], images[0])\n",
    "img = io.imread(directory + images[0])/255\n",
    "width = img.shape[0]\n",
    "height = img.shape[1]"
   ]
  },
  {
   "cell_type": "markdown",
   "metadata": {},
   "source": [
    "2. Convert the labels to numbers using labelEncoder"
   ]
  },
  {
   "cell_type": "code",
   "execution_count": 3,
   "metadata": {},
   "outputs": [
    {
     "name": "stdout",
     "output_type": "stream",
     "text": [
      "[ 3 11  9 ...  6 10  3]\n"
     ]
    }
   ],
   "source": [
    "le = preprocessing.LabelEncoder()\n",
    "le.fit(np.array(label).reshape(-1,))\n",
    "y_encoded = le.transform(np.array(label).reshape(-1,))\n",
    "print(y_encoded)"
   ]
  },
  {
   "cell_type": "markdown",
   "metadata": {},
   "source": [
    "3. Read in the images"
   ]
  },
  {
   "cell_type": "code",
   "execution_count": 4,
   "metadata": {},
   "outputs": [],
   "source": [
    "X = np.zeros((len(y_encoded),width,height,3)).astype(np.float32)\n",
    "\n",
    "for i,img in enumerate(images):\n",
    "    image = io.imread(directory + img)/255\n",
    "    resized_image = image.astype(np.float32)\n",
    "    X[i]=resized_image"
   ]
  },
  {
   "cell_type": "markdown",
   "metadata": {},
   "source": [
    "4. Split in train and test"
   ]
  },
  {
   "cell_type": "code",
   "execution_count": 5,
   "metadata": {},
   "outputs": [
    {
     "name": "stdout",
     "output_type": "stream",
     "text": [
      "(12483, 100, 100, 3)\n",
      "(12483,)\n"
     ]
    }
   ],
   "source": [
    "X_train, X_test, y_train, y_test = train_test_split(X, y_encoded, test_size=0.33, random_state=1234)\n",
    "\n",
    "print(X_train.shape)\n",
    "print(y_train.shape)"
   ]
  },
  {
   "cell_type": "markdown",
   "metadata": {},
   "source": [
    "5. One-hot-encode the outcome"
   ]
  },
  {
   "cell_type": "code",
   "execution_count": 6,
   "metadata": {},
   "outputs": [],
   "source": [
    "y_train_onehot = to_categorical(y_train)"
   ]
  },
  {
   "cell_type": "markdown",
   "metadata": {},
   "source": [
    "# 1. Basic CNN model"
   ]
  },
  {
   "cell_type": "markdown",
   "metadata": {},
   "source": [
    "1. Construct, compile and train a model with following layers\n",
    "\n",
    "    Convolutional part\n",
    "    \n",
    "    + convolution, using 32 feature maps and a kernel size of 2x2\n",
    "    + Max pooling, over, with a 2x2 pool size\n",
    "    + Batch Normalization\n",
    "    + convolution, using 32 feature maps and a kernel size of 2x2\n",
    "    + Max pooling, over, with a 2x2 pool size\n",
    "    + Batch Normalization\n",
    "    \n",
    "    Neural network\n",
    "    \n",
    "    + flatten\n",
    "    + hidden layer with 10 nodes\n",
    "    + output layer with how many nodes?\n",
    "    + Chose the right activation functions, loss and optimizer\n",
    "    + Do early stopping after 5 iterations\n",
    "\n",
    "2. Plot the loss and validated loss over the epochs\n",
    "\n",
    "\n",
    "3. What could you do to improve the accuracy? Try to think of at least three things you could do.\n",
    "    + Don't actually do it. It will take too long.\n",
    "    \n",
    "    "
   ]
  },
  {
   "cell_type": "markdown",
   "metadata": {},
   "source": [
    "1. Build, compile and train the model"
   ]
  },
  {
   "cell_type": "code",
   "execution_count": 7,
   "metadata": {},
   "outputs": [
    {
     "name": "stdout",
     "output_type": "stream",
     "text": [
      "Train on 9986 samples, validate on 2497 samples\n",
      "Epoch 1/100\n",
      "9986/9986 [==============================] - ETA: 0s - loss: 1.8930 - acc: 0.3697"
     ]
    },
    {
     "name": "stderr",
     "output_type": "stream",
     "text": [
      "/home/jelle/.local/lib/python3.8/site-packages/tensorflow/python/keras/engine/training.py:2325: UserWarning: `Model.state_updates` will be removed in a future version. This property should not be used in TensorFlow 2.0, as `updates` are applied automatically.\n",
      "  warnings.warn('`Model.state_updates` will be removed in a future version. '\n"
     ]
    },
    {
     "name": "stdout",
     "output_type": "stream",
     "text": [
      "9986/9986 [==============================] - 25s 3ms/sample - loss: 1.8930 - acc: 0.3697 - val_loss: 1.7496 - val_acc: 0.2851\n",
      "Epoch 2/100\n",
      "9986/9986 [==============================] - 5s 530us/sample - loss: 1.3876 - acc: 0.4997 - val_loss: 2.0268 - val_acc: 0.2603\n",
      "Epoch 3/100\n",
      "9986/9986 [==============================] - 5s 521us/sample - loss: 1.1621 - acc: 0.5894 - val_loss: 2.8380 - val_acc: 0.2936\n",
      "Epoch 4/100\n",
      "9986/9986 [==============================] - 5s 528us/sample - loss: 0.9344 - acc: 0.6679 - val_loss: 2.7562 - val_acc: 0.3088\n",
      "Epoch 5/100\n",
      "9986/9986 [==============================] - 5s 535us/sample - loss: 0.6732 - acc: 0.7663 - val_loss: 2.4734 - val_acc: 0.3616\n",
      "Epoch 6/100\n",
      "9986/9986 [==============================] - 5s 529us/sample - loss: 0.4716 - acc: 0.8388 - val_loss: 2.4278 - val_acc: 0.4169\n",
      "Epoch 7/100\n",
      "9986/9986 [==============================] - 5s 526us/sample - loss: 0.3714 - acc: 0.8762 - val_loss: 3.7985 - val_acc: 0.3664\n",
      "Epoch 8/100\n",
      "9986/9986 [==============================] - 5s 531us/sample - loss: 0.2544 - acc: 0.9160 - val_loss: 3.5926 - val_acc: 0.3757\n",
      "Epoch 9/100\n",
      "9986/9986 [==============================] - 5s 532us/sample - loss: 0.1874 - acc: 0.9373 - val_loss: 3.6878 - val_acc: 0.4133\n",
      "Epoch 10/100\n",
      "9986/9986 [==============================] - 5s 535us/sample - loss: 0.1785 - acc: 0.9423 - val_loss: 5.0261 - val_acc: 0.3056\n",
      "Epoch 11/100\n",
      "9986/9986 [==============================] - 5s 537us/sample - loss: 0.1417 - acc: 0.9504 - val_loss: 4.0934 - val_acc: 0.3961\n"
     ]
    }
   ],
   "source": [
    "# Architecture\n",
    "\n",
    "input_shape=(width,height,3)\n",
    "\n",
    "model = Sequential()\n",
    "\n",
    "model.add(Conv2D(32, kernel_size=(3, 3), activation='relu',input_shape=(input_shape))) \n",
    "model.add(MaxPooling2D(pool_size=(2, 2)))\n",
    "model.add(BatchNormalization())\n",
    "    \n",
    "model.add(Flatten()) \n",
    "model.add(Dense(50, activation='relu')) \n",
    "model.add(Dense(12, activation='softmax'))\n",
    "\n",
    "# Compile\n",
    "model.compile(loss='categorical_crossentropy',\n",
    "              optimizer='adam',\n",
    "              metrics=['accuracy'])\n",
    "with tf.device(device_name):\n",
    "    # Train \n",
    "    early_stopping =  EarlyStopping(patience=10)\n",
    "\n",
    "    fit1 = model.fit(X_train, y_train_onehot,batch_size=32, epochs=100,\n",
    "                        validation_split=0.2,  callbacks=[early_stopping], verbose=1)\n"
   ]
  },
  {
   "cell_type": "markdown",
   "metadata": {},
   "source": [
    "2. Plot"
   ]
  },
  {
   "cell_type": "code",
   "execution_count": 9,
   "metadata": {},
   "outputs": [
    {
     "data": {
      "image/png": "[encoded data removed]",
      "text/plain": [
       "<Figure size 432x288 with 1 Axes>"
      ]
     },
     "metadata": {
      "needs_background": "light"
     },
     "output_type": "display_data"
    },
    {
     "data": {
      "image/png": "[encoded data removed]",
      "text/plain": [
       "<Figure size 432x288 with 1 Axes>"
      ]
     },
     "metadata": {
      "needs_background": "light"
     },
     "output_type": "display_data"
    }
   ],
   "source": [
    "# Accuray \n",
    "plt.plot(fit1.history['acc'],'b', fit1.history['val_acc'],'r')\n",
    "\n",
    "plt.title('model accuracy')\n",
    "plt.ylabel('accuracy')\n",
    "plt.xlabel('epoch')\n",
    "plt.legend(['train', 'val'], loc='upper left')\n",
    "plt.show()\n",
    "# Loss \n",
    "plt.plot(fit1.history['loss'],'b', fit1.history['val_loss'],'r')\n",
    "\n",
    "plt.title('model loss')\n",
    "plt.ylabel('loss')\n",
    "plt.xlabel('epoch')\n",
    "plt.legend(['train', 'val'], loc='upper left')\n",
    "plt.show()"
   ]
  },
  {
   "cell_type": "markdown",
   "metadata": {},
   "source": [
    "We ended with a accuracy of 67,25%. This is ok.  What could you do to improve it?"
   ]
  },
  {
   "cell_type": "markdown",
   "metadata": {},
   "source": [
    "3. Improve"
   ]
  },
  {
   "cell_type": "markdown",
   "metadata": {},
   "source": [
    "You can do different things\n",
    "    + adding layers (convolutional or dense layers)\n",
    "    + Increasing the nodes\n",
    "    + Using image augmentation\n",
    "    ..."
   ]
  },
  {
   "cell_type": "markdown",
   "metadata": {},
   "source": [
    "# 2. Data augmentation\n",
    "One thing you can do to improve the results, is adding more data through data augmentation.\n",
    "\n",
    "1. Split the  trainingset into train and validation set \n",
    "    + Don't forget to one-hot-encode the outcome again\n",
    "2. Build and compile the model, using the same parameters as before\n",
    "3. Initiate ImageDataGenerator\n",
    "4. Train the model\n",
    "5. Make a plot to compare this model to the previous model (with regard to the evolution of the validated loss over the epochs).\n"
   ]
  },
  {
   "cell_type": "markdown",
   "metadata": {},
   "source": [
    "1. Train/validation split"
   ]
  },
  {
   "cell_type": "code",
   "execution_count": 10,
   "metadata": {},
   "outputs": [],
   "source": [
    "# splitting\n",
    "X_train2, X_val, y_train2, y_val = train_test_split(X_train, y_train, test_size=0.2, random_state=123)\n",
    "\n",
    "# one-hot encoding\n",
    "y_train2_onehot = to_categorical(y_train2)\n",
    "y_val_onehot = to_categorical(y_val)"
   ]
  },
  {
   "cell_type": "markdown",
   "metadata": {},
   "source": [
    "2. Build and compile the model"
   ]
  },
  {
   "cell_type": "code",
   "execution_count": 11,
   "metadata": {},
   "outputs": [],
   "source": [
    "# Model\n",
    "input_shape=(width,height,3)\n",
    "\n",
    "def get_model():\n",
    "    model = Sequential()\n",
    "\n",
    "    model.add(Conv2D(32, kernel_size=(3, 3), activation='relu',input_shape=(input_shape))) \n",
    "    model.add(MaxPooling2D(pool_size=(2, 2)))\n",
    "    model.add(BatchNormalization())\n",
    "    \n",
    "    model.add(Flatten()) \n",
    "    model.add(Dense(50, activation='relu')) \n",
    "    model.add(Dense(12, activation='softmax'))\n",
    "    return(model)\n",
    "\n",
    "model = get_model() \n",
    "\n",
    "model.compile(loss='categorical_crossentropy',\n",
    "              optimizer='adam',\n",
    "              metrics=['accuracy'])\n"
   ]
  },
  {
   "cell_type": "markdown",
   "metadata": {},
   "source": [
    "3. Initiate ImageDataGenerator"
   ]
  },
  {
   "cell_type": "code",
   "execution_count": 12,
   "metadata": {},
   "outputs": [],
   "source": [
    "from keras.preprocessing.image import ImageDataGenerator\n",
    "aug = ImageDataGenerator()\n",
    " \n"
   ]
  },
  {
   "cell_type": "markdown",
   "metadata": {},
   "source": [
    "4. Train the model"
   ]
  },
  {
   "cell_type": "code",
   "execution_count": 13,
   "metadata": {},
   "outputs": [
    {
     "name": "stderr",
     "output_type": "stream",
     "text": [
      "/home/jelle/.local/lib/python3.8/site-packages/tensorflow/python/keras/engine/training_v1.py:1240: UserWarning: `model.fit_generator` is deprecated and will be removed in a future version. Please use `Model.fit`, which supports generators.\n",
      "  warnings.warn('`model.fit_generator` is deprecated and '\n"
     ]
    },
    {
     "name": "stdout",
     "output_type": "stream",
     "text": [
      "Epoch 1/100\n",
      "312/312 [==============================] - 6s 18ms/step - batch: 155.5000 - size: 31.9038 - loss: 1.9759 - acc: 0.3586 - val_loss: 2.0211 - val_acc: 0.2875\n",
      "Epoch 2/100\n",
      "312/312 [==============================] - 6s 18ms/step - batch: 155.5000 - size: 31.9038 - loss: 1.4206 - acc: 0.4753 - val_loss: 2.0655 - val_acc: 0.3560\n",
      "Epoch 3/100\n",
      "312/312 [==============================] - 6s 18ms/step - batch: 155.5000 - size: 31.9038 - loss: 1.1594 - acc: 0.5731 - val_loss: 1.9319 - val_acc: 0.3873\n",
      "Epoch 4/100\n",
      "312/312 [==============================] - 6s 18ms/step - batch: 155.5000 - size: 31.9038 - loss: 0.9328 - acc: 0.6553 - val_loss: 2.0796 - val_acc: 0.4117\n",
      "Epoch 5/100\n",
      "312/312 [==============================] - 5s 18ms/step - batch: 155.5000 - size: 31.9038 - loss: 0.7185 - acc: 0.7326 - val_loss: 2.6923 - val_acc: 0.3829\n",
      "Epoch 6/100\n",
      "312/312 [==============================] - 6s 18ms/step - batch: 155.5000 - size: 31.9038 - loss: 0.5191 - acc: 0.8109 - val_loss: 2.8039 - val_acc: 0.4097\n",
      "Epoch 7/100\n",
      "312/312 [==============================] - 6s 18ms/step - batch: 155.5000 - size: 31.9038 - loss: 0.4007 - acc: 0.8574 - val_loss: 4.2946 - val_acc: 0.3396\n",
      "Epoch 8/100\n",
      "312/312 [==============================] - 5s 18ms/step - batch: 155.5000 - size: 31.9038 - loss: 0.3129 - acc: 0.8915 - val_loss: 4.7699 - val_acc: 0.3220\n"
     ]
    }
   ],
   "source": [
    "early_stopping =  EarlyStopping(patience=5)\n",
    "fit2_aug = model.fit_generator(aug.flow(X_train2, y_train2_onehot,batch_size=32), epochs=100,\n",
    "                    steps_per_epoch=len(X_train2) // 32, callbacks=[early_stopping], verbose=1,validation_data = (X_val,y_val_onehot))\n",
    "\n"
   ]
  },
  {
   "cell_type": "markdown",
   "metadata": {},
   "source": [
    "5. Compare plots"
   ]
  },
  {
   "cell_type": "code",
   "execution_count": 14,
   "metadata": {},
   "outputs": [
    {
     "data": {
      "image/png": "[encoded data removed]",
      "text/plain": [
       "<Figure size 432x288 with 1 Axes>"
      ]
     },
     "metadata": {
      "needs_background": "light"
     },
     "output_type": "display_data"
    }
   ],
   "source": [
    "plt.plot( fit1.history['val_loss'],'g', fit2_aug.history['val_loss'],'b')\n",
    "\n",
    "plt.title('model loss')\n",
    "plt.ylabel('loss')\n",
    "plt.xlabel('epoch')\n",
    "plt.legend(['model', 'models_with_aug'], loc='upper left')\n",
    "plt.show()"
   ]
  },
  {
   "cell_type": "markdown",
   "metadata": {},
   "source": [
    "This is slightly better."
   ]
  },
  {
   "cell_type": "markdown",
   "metadata": {},
   "source": [
    "# 3. Transfer learning via VGG19 \n",
    "\n",
    "In transfer learning, you use a pre-trained model. We will use the VGG19-model. \n",
    "\n",
    "1. download the VGG19-model\n",
    "    + Use  the correct input shape (the size of the images)\n",
    "    + use include_top=False\n",
    "2. Store the model as a sequential model\n",
    "3. Fix the layers of the model\n",
    "4. Add the top layers of the model (the neural network that will do the classification)\n",
    "5. Compile and train\n",
    "6. Compare to other models using the same plot as before\n",
    "7. Evaluate your best model of this labo on the test-set, using the classification report"
   ]
  },
  {
   "cell_type": "markdown",
   "metadata": {},
   "source": [
    "1. Download the model"
   ]
  },
  {
   "cell_type": "code",
   "execution_count": 20,
   "metadata": {},
   "outputs": [
    {
     "data": {
      "text/plain": [
       "tensorflow.python.keras.engine.functional.Functional"
      ]
     },
     "execution_count": 20,
     "metadata": {},
     "output_type": "execute_result"
    }
   ],
   "source": [
    "\n",
    "modelVGG19 = tensorflow.keras.applications.vgg19.VGG19(include_top=False, weights='imagenet', input_shape=(width,height,3))\n",
    "type(modelVGG19)"
   ]
  },
  {
   "cell_type": "markdown",
   "metadata": {},
   "source": [
    "2. Store the model as sequential"
   ]
  },
  {
   "cell_type": "code",
   "execution_count": 21,
   "metadata": {},
   "outputs": [
    {
     "name": "stdout",
     "output_type": "stream",
     "text": [
      "Model: \"sequential_3\"\n",
      "_________________________________________________________________\n",
      "Layer (type)                 Output Shape              Param #   \n",
      "=================================================================\n",
      "block1_conv1 (Conv2D)        (None, 100, 100, 64)      1792      \n",
      "_________________________________________________________________\n",
      "block1_conv2 (Conv2D)        (None, 100, 100, 64)      36928     \n",
      "_________________________________________________________________\n",
      "block1_pool (MaxPooling2D)   (None, 50, 50, 64)        0         \n",
      "_________________________________________________________________\n",
      "block2_conv1 (Conv2D)        (None, 50, 50, 128)       73856     \n",
      "_________________________________________________________________\n",
      "block2_conv2 (Conv2D)        (None, 50, 50, 128)       147584    \n",
      "_________________________________________________________________\n",
      "block2_pool (MaxPooling2D)   (None, 25, 25, 128)       0         \n",
      "_________________________________________________________________\n",
      "block3_conv1 (Conv2D)        (None, 25, 25, 256)       295168    \n",
      "_________________________________________________________________\n",
      "block3_conv2 (Conv2D)        (None, 25, 25, 256)       590080    \n",
      "_________________________________________________________________\n",
      "block3_conv3 (Conv2D)        (None, 25, 25, 256)       590080    \n",
      "_________________________________________________________________\n",
      "block3_conv4 (Conv2D)        (None, 25, 25, 256)       590080    \n",
      "_________________________________________________________________\n",
      "block3_pool (MaxPooling2D)   (None, 12, 12, 256)       0         \n",
      "_________________________________________________________________\n",
      "block4_conv1 (Conv2D)        (None, 12, 12, 512)       1180160   \n",
      "_________________________________________________________________\n",
      "block4_conv2 (Conv2D)        (None, 12, 12, 512)       2359808   \n",
      "_________________________________________________________________\n",
      "block4_conv3 (Conv2D)        (None, 12, 12, 512)       2359808   \n",
      "_________________________________________________________________\n",
      "block4_conv4 (Conv2D)        (None, 12, 12, 512)       2359808   \n",
      "_________________________________________________________________\n",
      "block4_pool (MaxPooling2D)   (None, 6, 6, 512)         0         \n",
      "_________________________________________________________________\n",
      "block5_conv1 (Conv2D)        (None, 6, 6, 512)         2359808   \n",
      "_________________________________________________________________\n",
      "block5_conv2 (Conv2D)        (None, 6, 6, 512)         2359808   \n",
      "_________________________________________________________________\n",
      "block5_conv3 (Conv2D)        (None, 6, 6, 512)         2359808   \n",
      "_________________________________________________________________\n",
      "block5_conv4 (Conv2D)        (None, 6, 6, 512)         2359808   \n",
      "_________________________________________________________________\n",
      "block5_pool (MaxPooling2D)   (None, 3, 3, 512)         0         \n",
      "=================================================================\n",
      "Total params: 20,024,384\n",
      "Trainable params: 20,024,384\n",
      "Non-trainable params: 0\n",
      "_________________________________________________________________\n"
     ]
    }
   ],
   "source": [
    "# Store as a sequential model.\n",
    "\n",
    "model = Sequential()\n",
    "\n",
    "for layer in modelVGG19.layers[:]:\n",
    "    model.add(layer)\n",
    "\n",
    "model.summary()"
   ]
  },
  {
   "cell_type": "markdown",
   "metadata": {},
   "source": [
    "3. Fix the layers of the model"
   ]
  },
  {
   "cell_type": "code",
   "execution_count": 22,
   "metadata": {},
   "outputs": [],
   "source": [
    "\n",
    "for layer in model.layers:\n",
    "    layer.trainable = False\n"
   ]
  },
  {
   "cell_type": "markdown",
   "metadata": {},
   "source": [
    "4. Add the top layers of the model"
   ]
  },
  {
   "cell_type": "code",
   "execution_count": 23,
   "metadata": {},
   "outputs": [],
   "source": [
    "model.add(Flatten()) \n",
    "model.add(Dense(100, activation='relu')) \n",
    "model.add(Dense(12, activation='softmax'))"
   ]
  },
  {
   "cell_type": "markdown",
   "metadata": {},
   "source": [
    "5. Compile and train the model"
   ]
  },
  {
   "cell_type": "code",
   "execution_count": null,
   "metadata": {
    "tags": []
   },
   "outputs": [
    {
     "name": "stdout",
     "output_type": "stream",
     "text": [
      "Model: \"sequential_3\"\n",
      "_________________________________________________________________\n",
      "Layer (type)                 Output Shape              Param #   \n",
      "=================================================================\n",
      "block1_conv1 (Conv2D)        (None, 100, 100, 64)      1792      \n",
      "_________________________________________________________________\n",
      "block1_conv2 (Conv2D)        (None, 100, 100, 64)      36928     \n",
      "_________________________________________________________________\n",
      "block1_pool (MaxPooling2D)   (None, 50, 50, 64)        0         \n",
      "_________________________________________________________________\n",
      "block2_conv1 (Conv2D)        (None, 50, 50, 128)       73856     \n",
      "_________________________________________________________________\n",
      "block2_conv2 (Conv2D)        (None, 50, 50, 128)       147584    \n",
      "_________________________________________________________________\n",
      "block2_pool (MaxPooling2D)   (None, 25, 25, 128)       0         \n",
      "_________________________________________________________________\n",
      "block3_conv1 (Conv2D)        (None, 25, 25, 256)       295168    \n",
      "_________________________________________________________________\n",
      "block3_conv2 (Conv2D)        (None, 25, 25, 256)       590080    \n",
      "_________________________________________________________________\n",
      "block3_conv3 (Conv2D)        (None, 25, 25, 256)       590080    \n",
      "_________________________________________________________________\n",
      "block3_conv4 (Conv2D)        (None, 25, 25, 256)       590080    \n",
      "_________________________________________________________________\n",
      "block3_pool (MaxPooling2D)   (None, 12, 12, 256)       0         \n",
      "_________________________________________________________________\n",
      "block4_conv1 (Conv2D)        (None, 12, 12, 512)       1180160   \n",
      "_________________________________________________________________\n",
      "block4_conv2 (Conv2D)        (None, 12, 12, 512)       2359808   \n",
      "_________________________________________________________________\n",
      "block4_conv3 (Conv2D)        (None, 12, 12, 512)       2359808   \n",
      "_________________________________________________________________\n",
      "block4_conv4 (Conv2D)        (None, 12, 12, 512)       2359808   \n",
      "_________________________________________________________________\n",
      "block4_pool (MaxPooling2D)   (None, 6, 6, 512)         0         \n",
      "_________________________________________________________________\n",
      "block5_conv1 (Conv2D)        (None, 6, 6, 512)         2359808   \n",
      "_________________________________________________________________\n",
      "block5_conv2 (Conv2D)        (None, 6, 6, 512)         2359808   \n",
      "_________________________________________________________________\n",
      "block5_conv3 (Conv2D)        (None, 6, 6, 512)         2359808   \n",
      "_________________________________________________________________\n",
      "block5_conv4 (Conv2D)        (None, 6, 6, 512)         2359808   \n",
      "_________________________________________________________________\n",
      "block5_pool (MaxPooling2D)   (None, 3, 3, 512)         0         \n",
      "_________________________________________________________________\n",
      "flatten_3 (Flatten)          (None, 4608)              0         \n",
      "_________________________________________________________________\n",
      "dense_6 (Dense)              (None, 100)               460900    \n",
      "_________________________________________________________________\n",
      "dense_7 (Dense)              (None, 12)                1212      \n",
      "=================================================================\n",
      "Total params: 20,486,496\n",
      "Trainable params: 462,112\n",
      "Non-trainable params: 20,024,384\n",
      "_________________________________________________________________\n",
      "Train on 9986 samples, validate on 2497 samples\n",
      "Epoch 1/100\n",
      "9986/9986 [==============================] - 30s 3ms/sample - loss: 1.6851 - acc: 0.4072 - val_loss: 1.6126 - val_acc: 0.4301\n",
      "Epoch 2/100\n",
      "9986/9986 [==============================] - 29s 3ms/sample - loss: 1.4780 - acc: 0.4970 - val_loss: 1.5520 - val_acc: 0.4590\n",
      "Epoch 3/100\n",
      "9986/9986 [==============================] - 30s 3ms/sample - loss: 1.3796 - acc: 0.5288 - val_loss: 1.4866 - val_acc: 0.4850\n",
      "Epoch 4/100\n",
      "9986/9986 [==============================] - 30s 3ms/sample - loss: 1.3218 - acc: 0.5450 - val_loss: 1.4410 - val_acc: 0.5050\n",
      "Epoch 5/100\n",
      "9986/9986 [==============================] - 31s 3ms/sample - loss: 1.2568 - acc: 0.5686 - val_loss: 1.4649 - val_acc: 0.5018\n",
      "Epoch 6/100\n",
      "9986/9986 [==============================] - 41s 4ms/sample - loss: 1.2117 - acc: 0.5833 - val_loss: 1.4720 - val_acc: 0.5034\n",
      "Epoch 7/100\n",
      "2656/9986 [======>.......................] - ETA: 26s - loss: 1.1672 - acc: 0.5881"
     ]
    }
   ],
   "source": [
    "#Compile\n",
    "model.compile(loss='categorical_crossentropy',optimizer ='adam',metrics=['accuracy'])\n",
    "model.summary()\n",
    "\n",
    "# Train\n",
    "batch_size = 32\n",
    "early_stopping =  EarlyStopping(patience=3)\n",
    "history = model.fit(X_train, y_train_onehot,batch_size=batch_size, epochs=100,\n",
    "                    validation_split=0.2, callbacks=[early_stopping])\n",
    "\n"
   ]
  },
  {
   "cell_type": "markdown",
   "metadata": {},
   "source": [
    "6. Compare with previous models using a plot"
   ]
  },
  {
   "cell_type": "code",
   "execution_count": null,
   "metadata": {},
   "outputs": [],
   "source": [
    "plt.plot( fit1.history['val_loss'],'g', fit2_aug.history['val_loss'],'r', history.history['val_loss'],'b')\n",
    "\n",
    "plt.title('model loss')\n",
    "plt.ylabel('loss')\n",
    "plt.xlabel('epoch')\n",
    "plt.legend(['model1', 'model2_aug', 'model3_transfer_learning'], loc='upper left')\n",
    "plt.show()"
   ]
  },
  {
   "cell_type": "markdown",
   "metadata": {},
   "source": [
    "This is the best model so far, so we choose this model and evaluate on the test set."
   ]
  },
  {
   "cell_type": "markdown",
   "metadata": {},
   "source": [
    "7. Evaluate on test set"
   ]
  },
  {
   "cell_type": "code",
   "execution_count": null,
   "metadata": {},
   "outputs": [],
   "source": [
    "test_predict = model.predict_classes(X_test)\n",
    "print(classification_report(y_test, test_predict))\n"
   ]
  },
  {
   "cell_type": "code",
   "execution_count": null,
   "metadata": {},
   "outputs": [],
   "source": []
  }
 ],
 "metadata": {
  "kernelspec": {
   "display_name": "Python 3",
   "language": "python",
   "name": "python3"
  },
  "language_info": {
   "codemirror_mode": {
    "name": "ipython",
    "version": 3
   },
   "file_extension": ".py",
   "mimetype": "text/x-python",
   "name": "python",
   "nbconvert_exporter": "python",
   "pygments_lexer": "ipython3",
   "version": "3.8.5"
  }
 },
 "nbformat": 4,
 "nbformat_minor": 4
}
