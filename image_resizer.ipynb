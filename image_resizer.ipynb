{
 "cells": [
  {
   "cell_type": "code",
   "execution_count": null,
   "id": "cce69ee0-ffe2-4f75-be4b-cef2c29b2bc0",
   "metadata": {},
   "outputs": [],
   "source": [
    "import cv2\n",
    "import pandas as pd\n",
    "from skimage import io\n",
    "import numpy as np\n",
    "\n",
    "directory = \"./train_images/\"\n",
    "labels = pd.read_csv(\"train.csv\")\n",
    "label = labels[\"labels\"].tolist()\n",
    "images = labels[\"image\"].tolist()\n",
    "\n",
    "for i,img in enumerate(images):\n",
    "    image = cv2.imread(\"train_images/\" + img, cv2.IMREAD_UNCHANGED)\n",
    "    dim = (125, 125)\n",
    "    \n",
    "    # resize image\n",
    "    resized = cv2.resize(image, dim, interpolation = cv2.INTER_NEAREST)\n",
    "    cv2.imwrite(\"resized_train_images/\"+img, resized)"
   ]
  },
  {
   "cell_type": "code",
   "execution_count": null,
   "id": "a5d8765a-d552-437f-8d42-9cc0bf370057",
   "metadata": {},
   "outputs": [],
   "source": []
  }
 ],
 "metadata": {
  "kernelspec": {
   "display_name": "Python 3",
   "language": "python",
   "name": "python3"
  },
  "language_info": {
   "codemirror_mode": {
    "name": "ipython",
    "version": 3
   },
   "file_extension": ".py",
   "mimetype": "text/x-python",
   "name": "python",
   "nbconvert_exporter": "python",
   "pygments_lexer": "ipython3",
   "version": "3.8.5"
  }
 },
 "nbformat": 4,
 "nbformat_minor": 5
}
