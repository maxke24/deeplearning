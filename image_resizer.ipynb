{
 "cells": [
  {
   "cell_type": "markdown",
   "metadata": {},
   "source": [
    "# Image resizer\n",
    "\n",
    "We gebruiken een aparte resizer om ervoor te zorgen dat we de images niet telkens opnieuw moeten resizen om ons model te runnen. Dit zorgt voor een performance/snelheids boost in ons *foliar_diseases.ipynb* notebook."
   ]
  },
  {
   "cell_type": "markdown",
   "metadata": {},
   "source": [
    "Folder structuur voor een snel en makkelijk overzicht:\n",
    "```bash\n",
    ".\n",
    "├───datasets\n",
    "│   └───train.csv\n",
    "├───images\n",
    "│   ├───resized_train_images\n",
    "│   └───train_images\n",
    "├───foliar_diseases.ipynb\n",
    "└───image_resizer.ipynb\n",
    "```"
   ]
  },
  {
   "cell_type": "code",
   "execution_count": 1,
   "metadata": {},
   "outputs": [],
   "source": [
    "import cv2\n",
    "import pandas as pd\n",
    "from skimage import io\n",
    "import numpy as np\n",
    "\n",
    "directory = \"images/train_images/\"\n",
    "labels = pd.read_csv(\"datasets/train.csv\")\n",
    "label = labels[\"labels\"].tolist()\n",
    "images = labels[\"image\"].tolist()\n",
    "\n",
    "for i,img in enumerate(images):\n",
    "    image = cv2.imread(\"images/train_images/\" + img, cv2.IMREAD_UNCHANGED)\n",
    "    dim = (150, 150)\n",
    "    \n",
    "    # resize image\n",
    "    resized = cv2.resize(image, dim, interpolation = cv2.INTER_NEAREST)\n",
    "    cv2.imwrite(\"images/resized_train_images/\"+img, resized)"
   ]
  },
  {
   "cell_type": "code",
   "execution_count": null,
   "metadata": {},
   "outputs": [],
   "source": []
  }
 ],
 "metadata": {
  "kernelspec": {
   "display_name": "Python 3",
   "language": "python",
   "name": "python3"
  },
  "language_info": {
   "codemirror_mode": {
    "name": "ipython",
    "version": 3
   },
   "file_extension": ".py",
   "mimetype": "text/x-python",
   "name": "python",
   "nbconvert_exporter": "python",
   "pygments_lexer": "ipython3",
   "version": "3.8.0"
  }
 },
 "nbformat": 4,
 "nbformat_minor": 1
}
