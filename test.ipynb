{
 "cells": [
  {
   "cell_type": "markdown",
   "id": "covered-acting",
   "metadata": {},
   "source": [
    "# Test Images\n",
    "Deze file gebruiken we om het algoritme uit te testen"
   ]
  },
  {
   "cell_type": "code",
   "execution_count": 1,
   "id": "elder-emphasis",
   "metadata": {},
   "outputs": [],
   "source": [
    "import cv2\n",
    "import pandas as pd\n",
    "from skimage import io\n",
    "import numpy as np\n",
    "import tensorflow as tf\n",
    "from keras.models import load_model"
   ]
  },
  {
   "cell_type": "code",
   "execution_count": 2,
   "id": "atomic-livestock",
   "metadata": {},
   "outputs": [],
   "source": [
    "model = load_model('bestModel.h5')"
   ]
  },
  {
   "cell_type": "code",
   "execution_count": 12,
   "id": "coastal-plumbing",
   "metadata": {},
   "outputs": [],
   "source": [
    "image = cv2.imread(\"images/test_images/test.png\")\n",
    "dim = (150, 150)\n",
    "\n",
    "    # resize image\n",
    "resized = cv2.resize(image, dim, interpolation = cv2.INTER_NEAREST)\n",
    "resized = tf.expand_dims(resized, axis=0)\n",
    "predictions = model.predict(resized, steps=1)\n",
    "output = np.argmax(predictions)\n",
    "output_certainty = np.floor(np.max(predictions)*100)"
   ]
  },
  {
   "cell_type": "code",
   "execution_count": 13,
   "id": "positive-contest",
   "metadata": {},
   "outputs": [
    {
     "name": "stdout",
     "output_type": "stream",
     "text": [
      "complex certainty: 0.0\n",
      "complex certainty: 0.0\n",
      "complex certainty: 0.0\n",
      "complex certainty: 0.0\n",
      "complex certainty: 0.0\n",
      "complex certainty: 0.0\n",
      "rust certainty: 0.08\n",
      "complex certainty: 0.0\n",
      "rust frog_eye_leaf_spot certainty: 99.92\n",
      "complex certainty: 0.0\n",
      "complex certainty: 0.0\n",
      "complex certainty: 0.0\n"
     ]
    }
   ],
   "source": [
    "from sklearn import preprocessing\n",
    "labels = pd.read_csv(\"datasets/train.csv\")\n",
    "label = labels[\"labels\"].tolist()\n",
    "labels2 = list(dict.fromkeys(label))\n",
    "\n",
    "le = preprocessing.LabelEncoder()\n",
    "le.fit(np.array(label).reshape(-1,))\n",
    "y_encoded = le.transform(np.array(label).reshape(-1,))\n",
    "y = list(dict.fromkeys(y_encoded))\n",
    "res = dict(zip(y, labels2))\n",
    "ls = predictions[0].tolist()\n",
    "for i in ls:\n",
    "    it = ls.index(i)\n",
    "    txt = \"{} certainty: {}\".format(res[it], round(i * 100, 2))\n",
    "    print(txt)"
   ]
  },
  {
   "cell_type": "code",
   "execution_count": null,
   "id": "b6d0dfb6-a803-4c70-b1f6-703907e1f364",
   "metadata": {},
   "outputs": [],
   "source": []
  }
 ],
 "metadata": {
  "kernelspec": {
   "display_name": "Python 3",
   "language": "python",
   "name": "python3"
  },
  "language_info": {
   "codemirror_mode": {
    "name": "ipython",
    "version": 3
   },
   "file_extension": ".py",
   "mimetype": "text/x-python",
   "name": "python",
   "nbconvert_exporter": "python",
   "pygments_lexer": "ipython3",
   "version": "3.8.5"
  }
 },
 "nbformat": 4,
 "nbformat_minor": 5
}
