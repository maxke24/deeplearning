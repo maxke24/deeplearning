{
 "cells": [
  {
   "cell_type": "markdown",
   "metadata": {},
   "source": [
    "# Plant Pathology\n",
    "*Identify the category of foliar diseases in apple trees.*"
   ]
  },
  {
   "cell_type": "markdown",
   "metadata": {},
   "source": [
    "Folder structuur voor een snel en makkelijk overzicht:\n",
    "```bash\n",
    ".\n",
    "├───datasets\n",
    "│   └───train.csv\n",
    "├───images\n",
    "│   ├───resized_train_images\n",
    "│   └───train_images\n",
    "├───foliar_diseases.ipynb\n",
    "└───image_resizer.ipynb\n",
    "```"
   ]
  },
  {
   "cell_type": "markdown",
   "metadata": {},
   "source": [
    "\n",
    "## 0. Modules importeren"
   ]
  },
  {
   "cell_type": "code",
   "execution_count": 1,
   "metadata": {},
   "outputs": [],
   "source": [
    "import os\n",
    "os.environ[\"KERAS_BACKEND\"] = \"tensorflow\"\n",
    "import numpy as np\n",
    "import pandas as pd\n",
    "import matplotlib.pyplot as plt\n",
    "\n",
    "from sklearn.model_selection import train_test_split\n",
    "from sklearn.metrics import classification_report\n",
    "from sklearn.metrics import confusion_matrix, accuracy_score\n",
    "from sklearn.preprocessing import OneHotEncoder\n",
    "from sklearn import preprocessing\n",
    "\n",
    "import matplotlib.image as mpimg\n",
    "from skimage.io import imread, imshow\n",
    "from skimage import data, color, io, filters, morphology,transform, exposure, feature, util\n",
    "from scipy import ndimage\n",
    "#importeer Tensorflow namespaces\n",
    "import keras\n",
    "from tensorflow.python.keras.models import Sequential\n",
    "from tensorflow.python.keras.layers import Activation\n",
    "from keras.optimizers import SGD\n",
    "from tensorflow.python.keras.layers import Dense, Dropout, Flatten, BatchNormalization\n",
    "from tensorflow.python.keras.layers import Conv2D, MaxPooling2D\n",
    "from tensorflow.python.keras.callbacks import EarlyStopping\n",
    "from keras import backend as K\n",
    "from keras.utils import np_utils\n",
    "from keras.preprocessing import image\n",
    "from keras.utils.np_utils import to_categorical\n",
    "import cv2\n",
    "import tensorflow as tf"
   ]
  },
  {
   "cell_type": "markdown",
   "metadata": {},
   "source": [
    "## 1. Data inlezen."
   ]
  },
  {
   "cell_type": "markdown",
   "metadata": {},
   "source": [
    "### We maken een lijst van alle fotos in onze dataset.\n",
    "\\> lijst met lables  \n",
    "\\> lijst met fotos"
   ]
  },
  {
   "cell_type": "code",
   "execution_count": 2,
   "metadata": {},
   "outputs": [
    {
     "name": "stdout",
     "output_type": "stream",
     "text": [
      "healthy 800113bb65efe69e.jpg\n"
     ]
    }
   ],
   "source": [
    "directory = \"images/resized_train_images/\"\n",
    "labels = pd.read_csv(\"datasets/train.csv\")\n",
    "label = labels[\"labels\"].tolist()\n",
    "images = labels[\"image\"].tolist()\n",
    "print(label[0], images[0])\n",
    "img = io.imread(directory + images[0])/255\n",
    "width = img.shape[0]\n",
    "height = img.shape[1]"
   ]
  },
  {
   "cell_type": "markdown",
   "metadata": {},
   "source": [
    "### LabelEncoder gebruiken om labels naar integers te converteren."
   ]
  },
  {
   "cell_type": "code",
   "execution_count": 3,
   "metadata": {},
   "outputs": [
    {
     "name": "stdout",
     "output_type": "stream",
     "text": [
      "[ 3 11  9 ...  6 10  3]\n"
     ]
    }
   ],
   "source": [
    "le = preprocessing.LabelEncoder()\n",
    "le.fit(np.array(label).reshape(-1,))\n",
    "y_encoded = le.transform(np.array(label).reshape(-1,))\n",
    "print(y_encoded)"
   ]
  },
  {
   "cell_type": "markdown",
   "metadata": {},
   "source": [
    "### Fotos inlezen."
   ]
  },
  {
   "cell_type": "code",
   "execution_count": 4,
   "metadata": {},
   "outputs": [],
   "source": [
    "X = np.zeros((len(y_encoded),width,height,3)).astype(np.float32)\n",
    "\n",
    "for i,img in enumerate(images):\n",
    "    image = io.imread(directory + img)/255\n",
    "    resized_image = image.astype(np.float32)\n",
    "    X[i]=resized_image"
   ]
  },
  {
   "cell_type": "markdown",
   "metadata": {},
   "source": [
    "### Train -en testsplits maken."
   ]
  },
  {
   "cell_type": "code",
   "execution_count": 5,
   "metadata": {},
   "outputs": [
    {
     "name": "stdout",
     "output_type": "stream",
     "text": [
      "(12483, 175, 175, 3)\n",
      "(12483,)\n"
     ]
    }
   ],
   "source": [
    "X_train, X_test, y_train, y_test = train_test_split(X, y_encoded, test_size=0.33, random_state=1234)\n",
    "\n",
    "print(X_train.shape)\n",
    "print(y_train.shape)"
   ]
  },
  {
   "cell_type": "markdown",
   "metadata": {},
   "source": [
    "### De uitkomst one-hot-encoderen."
   ]
  },
  {
   "cell_type": "code",
   "execution_count": 6,
   "metadata": {},
   "outputs": [],
   "source": [
    "y_train_onehot = to_categorical(y_train)"
   ]
  },
  {
   "cell_type": "markdown",
   "metadata": {},
   "source": [
    "## 2. Basic CNN model"
   ]
  },
  {
   "cell_type": "markdown",
   "metadata": {},
   "source": [
    "### Model builden, compileren en trainen:\n",
    "\n",
    "We gebruiken een 'sequential model':\n",
    "\n",
    "\\> *Convolutional*:\n",
    " - 32 Feature maps + ReLU activation function  \n",
    " - MAX pooling\n",
    " - Batch Normalization\n",
    "\n",
    "\\> *Neural Network*:\n",
    " - Flatten (2D foto omzetten in een array)  \n",
    " - ReLU activation function  \n",
    " - Softmax activation function (12 outputs -> 11 plantenziekten + gezonde plant)"
   ]
  },
  {
   "cell_type": "code",
   "execution_count": 7,
   "metadata": {},
   "outputs": [
    {
     "name": "stdout",
     "output_type": "stream",
     "text": [
      "Epoch 1/100\n",
      "313/313 [==============================] - 16s 36ms/step - loss: 4.4762 - accuracy: 0.2866 - val_loss: 1.9196 - val_accuracy: 0.2835\n",
      "Epoch 2/100\n",
      "313/313 [==============================] - 10s 31ms/step - loss: 1.4654 - accuracy: 0.4579 - val_loss: 1.8350 - val_accuracy: 0.3568\n",
      "Epoch 3/100\n",
      "313/313 [==============================] - 10s 31ms/step - loss: 1.1413 - accuracy: 0.6138 - val_loss: 2.5816 - val_accuracy: 0.2179\n",
      "Epoch 4/100\n",
      "313/313 [==============================] - 10s 31ms/step - loss: 0.6933 - accuracy: 0.7702 - val_loss: 2.3735 - val_accuracy: 0.3560\n",
      "Epoch 5/100\n",
      "313/313 [==============================] - 10s 31ms/step - loss: 0.4628 - accuracy: 0.8620 - val_loss: 3.3481 - val_accuracy: 0.3356\n",
      "Epoch 6/100\n",
      "313/313 [==============================] - 10s 31ms/step - loss: 0.4273 - accuracy: 0.8619 - val_loss: 3.2409 - val_accuracy: 0.3024\n",
      "Epoch 7/100\n",
      "313/313 [==============================] - 10s 31ms/step - loss: 0.3291 - accuracy: 0.9004 - val_loss: 3.3953 - val_accuracy: 0.3404\n",
      "Epoch 8/100\n",
      "313/313 [==============================] - 10s 31ms/step - loss: 0.1899 - accuracy: 0.9348 - val_loss: 3.7359 - val_accuracy: 0.2827\n",
      "Epoch 9/100\n",
      "313/313 [==============================] - 10s 31ms/step - loss: 0.1558 - accuracy: 0.9453 - val_loss: 5.4403 - val_accuracy: 0.3280\n",
      "Epoch 10/100\n",
      "313/313 [==============================] - 10s 31ms/step - loss: 0.1835 - accuracy: 0.9419 - val_loss: 4.2094 - val_accuracy: 0.3861\n",
      "Epoch 11/100\n",
      "313/313 [==============================] - 10s 31ms/step - loss: 0.1985 - accuracy: 0.9427 - val_loss: 6.5121 - val_accuracy: 0.2719\n",
      "Epoch 12/100\n",
      "313/313 [==============================] - 10s 31ms/step - loss: 0.1378 - accuracy: 0.9550 - val_loss: 4.3071 - val_accuracy: 0.3785\n"
     ]
    }
   ],
   "source": [
    "# Architecture\n",
    "\n",
    "input_shape=(width,height,3)\n",
    "\n",
    "model = Sequential()\n",
    "\n",
    "model.add(Conv2D(32, kernel_size=(3, 3), activation='relu',input_shape=(input_shape))) \n",
    "model.add(MaxPooling2D(pool_size=(2, 2)))\n",
    "model.add(BatchNormalization())\n",
    "    \n",
    "model.add(Flatten()) \n",
    "model.add(Dense(50, activation='relu')) \n",
    "model.add(Dense(12, activation='softmax'))\n",
    "\n",
    "# Compile\n",
    "model.compile(loss='categorical_crossentropy',\n",
    "              optimizer='adam',\n",
    "              metrics=['accuracy'])\n",
    "# Train \n",
    "early_stopping =  EarlyStopping(patience=10)\n",
    "\n",
    "fit1 = model.fit(X_train, y_train_onehot,batch_size=32, epochs=100,\n",
    "                    validation_split=0.2,  callbacks=[early_stopping], verbose=1)"
   ]
  },
  {
   "cell_type": "markdown",
   "metadata": {},
   "source": [
    "### Plotten"
   ]
  },
  {
   "cell_type": "code",
   "execution_count": 8,
   "metadata": {},
   "outputs": [
    {
     "data": {
      "image/png": "[encoded data removed]",
      "text/plain": [
       "<Figure size 432x288 with 1 Axes>"
      ]
     },
     "metadata": {
      "needs_background": "light"
     },
     "output_type": "display_data"
    },
    {
     "data": {
      "image/png": "[encoded data removed]",
      "text/plain": [
       "<Figure size 432x288 with 1 Axes>"
      ]
     },
     "metadata": {
      "needs_background": "light"
     },
     "output_type": "display_data"
    }
   ],
   "source": [
    "# Accuray \n",
    "plt.plot(fit1.history['accuracy'],'b', fit1.history['val_accuracy'],'r')\n",
    "\n",
    "plt.title('model accuracy')\n",
    "plt.ylabel('accuracy')\n",
    "plt.xlabel('epoch')\n",
    "plt.legend(['train', 'val'], loc='upper left')\n",
    "plt.show()\n",
    "# Loss \n",
    "plt.plot(fit1.history['loss'],'b', fit1.history['val_loss'],'r')\n",
    "\n",
    "plt.title('model loss')\n",
    "plt.ylabel('loss')\n",
    "plt.xlabel('epoch')\n",
    "plt.legend(['train', 'val'], loc='upper left')\n",
    "plt.show()"
   ]
  },
  {
   "cell_type": "markdown",
   "metadata": {},
   "source": [
    "Uiteindelijk komen we op een accuracy/accuraatheid van 39,61%. **TO EDIT**"
   ]
  },
  {
   "cell_type": "markdown",
   "metadata": {},
   "source": [
    "## 3. Data augmentatie"
   ]
  },
  {
   "cell_type": "markdown",
   "metadata": {},
   "source": [
    "### Train/Validatie split"
   ]
  },
  {
   "cell_type": "code",
   "execution_count": 9,
   "metadata": {},
   "outputs": [],
   "source": [
    "# splitting\n",
    "X_train2, X_val, y_train2, y_val = train_test_split(X_train, y_train, test_size=0.2, random_state=123)\n",
    "\n",
    "# one-hot encoding\n",
    "y_train2_onehot = to_categorical(y_train2)\n",
    "y_val_onehot = to_categorical(y_val)"
   ]
  },
  {
   "cell_type": "markdown",
   "metadata": {},
   "source": [
    "### Model builden en compileren."
   ]
  },
  {
   "cell_type": "code",
   "execution_count": 10,
   "metadata": {},
   "outputs": [],
   "source": [
    "# Model\n",
    "input_shape=(width,height,3)\n",
    "\n",
    "def get_model():\n",
    "    model = Sequential()\n",
    "\n",
    "    model.add(Conv2D(32, kernel_size=(3, 3), activation='relu',input_shape=(input_shape))) \n",
    "    model.add(MaxPooling2D(pool_size=(2, 2)))\n",
    "    model.add(BatchNormalization())\n",
    "    \n",
    "    model.add(Flatten()) \n",
    "    model.add(Dense(50, activation='relu')) \n",
    "    model.add(Dense(12, activation='softmax'))\n",
    "    return(model)\n",
    "\n",
    "model = get_model() \n",
    "\n",
    "model.compile(loss='categorical_crossentropy',\n",
    "              optimizer='adam',\n",
    "              metrics=['accuracy'])"
   ]
  },
  {
   "cell_type": "markdown",
   "metadata": {},
   "source": [
    "### ImageDataGenerator initiëren."
   ]
  },
  {
   "cell_type": "code",
   "execution_count": 11,
   "metadata": {},
   "outputs": [],
   "source": [
    "from keras.preprocessing.image import ImageDataGenerator\n",
    "aug = ImageDataGenerator()\n",
    " "
   ]
  },
  {
   "cell_type": "markdown",
   "metadata": {},
   "source": [
    "### Model trainen.\n",
    "Aan de hand van 100 Epochs"
   ]
  },
  {
   "cell_type": "code",
   "execution_count": 12,
   "metadata": {},
   "outputs": [
    {
     "name": "stdout",
     "output_type": "stream",
     "text": [
      "Epoch 1/100\n",
      "312/312 [==============================] - 10s 31ms/step - loss: 3.8923 - accuracy: 0.2713 - val_loss: 2.0009 - val_accuracy: 0.2163\n",
      "Epoch 2/100\n",
      "312/312 [==============================] - 10s 30ms/step - loss: 1.5069 - accuracy: 0.3958 - val_loss: 1.8729 - val_accuracy: 0.2395\n",
      "Epoch 3/100\n",
      "312/312 [==============================] - 10s 31ms/step - loss: 1.2600 - accuracy: 0.5178 - val_loss: 2.1939 - val_accuracy: 0.3688\n",
      "Epoch 4/100\n",
      "312/312 [==============================] - 10s 31ms/step - loss: 0.9828 - accuracy: 0.6422 - val_loss: 3.4442 - val_accuracy: 0.1534\n",
      "Epoch 5/100\n",
      "312/312 [==============================] - 10s 31ms/step - loss: 0.7407 - accuracy: 0.7407 - val_loss: 3.7583 - val_accuracy: 0.3352\n",
      "Epoch 6/100\n",
      "312/312 [==============================] - 10s 31ms/step - loss: 0.5596 - accuracy: 0.8053 - val_loss: 2.7999 - val_accuracy: 0.3300\n",
      "Epoch 7/100\n",
      "312/312 [==============================] - 10s 31ms/step - loss: 0.5672 - accuracy: 0.8185 - val_loss: 4.6169 - val_accuracy: 0.3700\n"
     ]
    }
   ],
   "source": [
    "early_stopping =  EarlyStopping(patience=5)\n",
    "fit2_aug = model.fit_generator(aug.flow(X_train2, y_train2_onehot,batch_size=32), epochs=100,\n",
    "                    steps_per_epoch=len(X_train2) // 32, callbacks=[early_stopping], verbose=1,validation_data = (X_val,y_val_onehot))\n"
   ]
  },
  {
   "cell_type": "markdown",
   "metadata": {},
   "source": [
    "### Plot vergelijken met plot in stap 2."
   ]
  },
  {
   "cell_type": "code",
   "execution_count": 13,
   "metadata": {},
   "outputs": [
    {
     "data": {
      "image/png": "[encoded data removed]",
      "text/plain": [
       "<Figure size 432x288 with 1 Axes>"
      ]
     },
     "metadata": {
      "needs_background": "light"
     },
     "output_type": "display_data"
    }
   ],
   "source": [
    "plt.plot( fit1.history['val_loss'],'g', fit2_aug.history['val_loss'],'b')\n",
    "\n",
    "plt.title('model loss')\n",
    "plt.ylabel('loss')\n",
    "plt.xlabel('epoch')\n",
    "plt.legend(['model', 'models_with_aug'], loc='upper left')\n",
    "plt.show()"
   ]
  },
  {
   "cell_type": "markdown",
   "metadata": {},
   "source": [
    "**TODO: CONCLUSION**"
   ]
  },
  {
   "cell_type": "markdown",
   "metadata": {},
   "source": [
    "## 4. Transfer learning via VGG19"
   ]
  },
  {
   "cell_type": "markdown",
   "metadata": {},
   "source": [
    "### VGG19 Model initialiseren"
   ]
  },
  {
   "cell_type": "code",
   "execution_count": 14,
   "metadata": {},
   "outputs": [
    {
     "data": {
      "text/plain": [
       "tensorflow.python.keras.engine.functional.Functional"
      ]
     },
     "execution_count": 14,
     "metadata": {},
     "output_type": "execute_result"
    }
   ],
   "source": [
    "modelVGG19 = tf.keras.applications.vgg19.VGG19(include_top=False, weights='imagenet', input_shape=(width,height,3))\n",
    "type(modelVGG19)"
   ]
  },
  {
   "cell_type": "markdown",
   "metadata": {},
   "source": [
    "### VGG19 model omzetten naar sequentieel model."
   ]
  },
  {
   "cell_type": "code",
   "execution_count": 15,
   "metadata": {},
   "outputs": [
    {
     "name": "stdout",
     "output_type": "stream",
     "text": [
      "Model: \"sequential_2\"\n",
      "_________________________________________________________________\n",
      "Layer (type)                 Output Shape              Param #   \n",
      "=================================================================\n",
      "block1_conv1 (Conv2D)        (None, 175, 175, 64)      1792      \n",
      "_________________________________________________________________\n",
      "block1_conv2 (Conv2D)        (None, 175, 175, 64)      36928     \n",
      "_________________________________________________________________\n",
      "block1_pool (MaxPooling2D)   (None, 87, 87, 64)        0         \n",
      "_________________________________________________________________\n",
      "block2_conv1 (Conv2D)        (None, 87, 87, 128)       73856     \n",
      "_________________________________________________________________\n",
      "block2_conv2 (Conv2D)        (None, 87, 87, 128)       147584    \n",
      "_________________________________________________________________\n",
      "block2_pool (MaxPooling2D)   (None, 43, 43, 128)       0         \n",
      "_________________________________________________________________\n",
      "block3_conv1 (Conv2D)        (None, 43, 43, 256)       295168    \n",
      "_________________________________________________________________\n",
      "block3_conv2 (Conv2D)        (None, 43, 43, 256)       590080    \n",
      "_________________________________________________________________\n",
      "block3_conv3 (Conv2D)        (None, 43, 43, 256)       590080    \n",
      "_________________________________________________________________\n",
      "block3_conv4 (Conv2D)        (None, 43, 43, 256)       590080    \n",
      "_________________________________________________________________\n",
      "block3_pool (MaxPooling2D)   (None, 21, 21, 256)       0         \n",
      "_________________________________________________________________\n",
      "block4_conv1 (Conv2D)        (None, 21, 21, 512)       1180160   \n",
      "_________________________________________________________________\n",
      "block4_conv2 (Conv2D)        (None, 21, 21, 512)       2359808   \n",
      "_________________________________________________________________\n",
      "block4_conv3 (Conv2D)        (None, 21, 21, 512)       2359808   \n",
      "_________________________________________________________________\n",
      "block4_conv4 (Conv2D)        (None, 21, 21, 512)       2359808   \n",
      "_________________________________________________________________\n",
      "block4_pool (MaxPooling2D)   (None, 10, 10, 512)       0         \n",
      "_________________________________________________________________\n",
      "block5_conv1 (Conv2D)        (None, 10, 10, 512)       2359808   \n",
      "_________________________________________________________________\n",
      "block5_conv2 (Conv2D)        (None, 10, 10, 512)       2359808   \n",
      "_________________________________________________________________\n",
      "block5_conv3 (Conv2D)        (None, 10, 10, 512)       2359808   \n",
      "_________________________________________________________________\n",
      "block5_conv4 (Conv2D)        (None, 10, 10, 512)       2359808   \n",
      "_________________________________________________________________\n",
      "block5_pool (MaxPooling2D)   (None, 5, 5, 512)         0         \n",
      "=================================================================\n",
      "Total params: 20,024,384\n",
      "Trainable params: 20,024,384\n",
      "Non-trainable params: 0\n",
      "_________________________________________________________________\n"
     ]
    }
   ],
   "source": [
    "# Store as a sequential model.\n",
    "\n",
    "model = Sequential()\n",
    "\n",
    "for layer in modelVGG19.layers[:]:\n",
    "    model.add(layer)\n",
    "\n",
    "model.summary()"
   ]
  },
  {
   "cell_type": "markdown",
   "metadata": {},
   "source": [
    "### Layers in het model vastzetten."
   ]
  },
  {
   "cell_type": "code",
   "execution_count": 16,
   "metadata": {},
   "outputs": [],
   "source": [
    "for layer in model.layers:\n",
    "    layer.trainable = False"
   ]
  },
  {
   "cell_type": "markdown",
   "metadata": {},
   "source": [
    "### Top layers toevoegen aan het model\n",
    "\n",
    " - Flatten  \n",
    " - ReLU activation function  \n",
    " - Softmax activation function (12 outputs -> 11 plantenziekten + gezonde plant)"
   ]
  },
  {
   "cell_type": "code",
   "execution_count": 22,
   "metadata": {},
   "outputs": [],
   "source": [
    "model.add(Flatten()) \n",
    "model.add(Dense(200, activation='relu'))\n",
    "model.add(Dense(200, activation='relu'))\n",
    "model.add(Dense(12, activation='softmax'))"
   ]
  },
  {
   "cell_type": "markdown",
   "metadata": {},
   "source": [
    "### Model compileren en trainen"
   ]
  },
  {
   "cell_type": "code",
   "execution_count": 23,
   "metadata": {},
   "outputs": [
    {
     "name": "stdout",
     "output_type": "stream",
     "text": [
      "Model: \"sequential_2\"\n",
      "_________________________________________________________________\n",
      "Layer (type)                 Output Shape              Param #   \n",
      "=================================================================\n",
      "block1_conv1 (Conv2D)        (None, 175, 175, 64)      1792      \n",
      "_________________________________________________________________\n",
      "block1_conv2 (Conv2D)        (None, 175, 175, 64)      36928     \n",
      "_________________________________________________________________\n",
      "block1_pool (MaxPooling2D)   (None, 87, 87, 64)        0         \n",
      "_________________________________________________________________\n",
      "block2_conv1 (Conv2D)        (None, 87, 87, 128)       73856     \n",
      "_________________________________________________________________\n",
      "block2_conv2 (Conv2D)        (None, 87, 87, 128)       147584    \n",
      "_________________________________________________________________\n",
      "block2_pool (MaxPooling2D)   (None, 43, 43, 128)       0         \n",
      "_________________________________________________________________\n",
      "block3_conv1 (Conv2D)        (None, 43, 43, 256)       295168    \n",
      "_________________________________________________________________\n",
      "block3_conv2 (Conv2D)        (None, 43, 43, 256)       590080    \n",
      "_________________________________________________________________\n",
      "block3_conv3 (Conv2D)        (None, 43, 43, 256)       590080    \n",
      "_________________________________________________________________\n",
      "block3_conv4 (Conv2D)        (None, 43, 43, 256)       590080    \n",
      "_________________________________________________________________\n",
      "block3_pool (MaxPooling2D)   (None, 21, 21, 256)       0         \n",
      "_________________________________________________________________\n",
      "block4_conv1 (Conv2D)        (None, 21, 21, 512)       1180160   \n",
      "_________________________________________________________________\n",
      "block4_conv2 (Conv2D)        (None, 21, 21, 512)       2359808   \n",
      "_________________________________________________________________\n",
      "block4_conv3 (Conv2D)        (None, 21, 21, 512)       2359808   \n",
      "_________________________________________________________________\n",
      "block4_conv4 (Conv2D)        (None, 21, 21, 512)       2359808   \n",
      "_________________________________________________________________\n",
      "block4_pool (MaxPooling2D)   (None, 10, 10, 512)       0         \n",
      "_________________________________________________________________\n",
      "block5_conv1 (Conv2D)        (None, 10, 10, 512)       2359808   \n",
      "_________________________________________________________________\n",
      "block5_conv2 (Conv2D)        (None, 10, 10, 512)       2359808   \n",
      "_________________________________________________________________\n",
      "block5_conv3 (Conv2D)        (None, 10, 10, 512)       2359808   \n",
      "_________________________________________________________________\n",
      "block5_conv4 (Conv2D)        (None, 10, 10, 512)       2359808   \n",
      "_________________________________________________________________\n",
      "block5_pool (MaxPooling2D)   (None, 5, 5, 512)         0         \n",
      "_________________________________________________________________\n",
      "flatten_2 (Flatten)          (None, 12800)             0         \n",
      "_________________________________________________________________\n",
      "dense_4 (Dense)              (None, 175)               2240175   \n",
      "_________________________________________________________________\n",
      "dense_5 (Dense)              (None, 175)               30800     \n",
      "_________________________________________________________________\n",
      "dense_6 (Dense)              (None, 12)                2112      \n",
      "_________________________________________________________________\n",
      "flatten_3 (Flatten)          (None, 12)                0         \n",
      "_________________________________________________________________\n",
      "dense_7 (Dense)              (None, 200)               2600      \n",
      "_________________________________________________________________\n",
      "dense_8 (Dense)              (None, 200)               40200     \n",
      "_________________________________________________________________\n",
      "dense_9 (Dense)              (None, 12)                2412      \n",
      "=================================================================\n",
      "Total params: 22,342,683\n",
      "Trainable params: 2,318,299\n",
      "Non-trainable params: 20,024,384\n",
      "_________________________________________________________________\n",
      "Epoch 1/100\n",
      "625/625 [==============================] - 51s 80ms/step - loss: 1.7780 - accuracy: 0.3567 - val_loss: 1.6461 - val_accuracy: 0.4794\n",
      "Epoch 2/100\n",
      "625/625 [==============================] - 50s 79ms/step - loss: 1.3013 - accuracy: 0.5762 - val_loss: 1.4727 - val_accuracy: 0.5214\n",
      "Epoch 3/100\n",
      "625/625 [==============================] - 49s 79ms/step - loss: 1.1467 - accuracy: 0.6348 - val_loss: 1.4757 - val_accuracy: 0.5250\n",
      "Epoch 4/100\n",
      "625/625 [==============================] - 50s 79ms/step - loss: 1.0632 - accuracy: 0.6684 - val_loss: 1.3928 - val_accuracy: 0.5519\n",
      "Epoch 5/100\n",
      "625/625 [==============================] - 50s 80ms/step - loss: 1.0430 - accuracy: 0.6752 - val_loss: 1.6289 - val_accuracy: 0.5034\n",
      "Epoch 6/100\n",
      "625/625 [==============================] - 50s 79ms/step - loss: 0.9699 - accuracy: 0.6979 - val_loss: 1.6189 - val_accuracy: 0.5098\n",
      "Epoch 7/100\n",
      "625/625 [==============================] - 50s 79ms/step - loss: 0.9109 - accuracy: 0.7154 - val_loss: 1.4796 - val_accuracy: 0.5406\n",
      "Epoch 8/100\n",
      "625/625 [==============================] - 50s 80ms/step - loss: 0.8264 - accuracy: 0.7463 - val_loss: 1.6526 - val_accuracy: 0.5234\n",
      "Epoch 9/100\n",
      "625/625 [==============================] - 50s 80ms/step - loss: 0.7620 - accuracy: 0.7637 - val_loss: 1.7079 - val_accuracy: 0.5318\n",
      "Epoch 10/100\n",
      "625/625 [==============================] - 50s 80ms/step - loss: 0.7516 - accuracy: 0.7672 - val_loss: 1.7321 - val_accuracy: 0.5342\n",
      "Epoch 11/100\n",
      "625/625 [==============================] - 50s 80ms/step - loss: 0.7291 - accuracy: 0.7736 - val_loss: 2.0743 - val_accuracy: 0.4986\n",
      "Epoch 12/100\n",
      "625/625 [==============================] - 50s 80ms/step - loss: 0.7271 - accuracy: 0.7801 - val_loss: 1.6741 - val_accuracy: 0.5439\n",
      "Epoch 13/100\n",
      "625/625 [==============================] - 50s 80ms/step - loss: 0.6248 - accuracy: 0.8075 - val_loss: 1.8746 - val_accuracy: 0.5254\n",
      "Epoch 14/100\n",
      "625/625 [==============================] - 50s 80ms/step - loss: 0.6258 - accuracy: 0.8129 - val_loss: 1.8534 - val_accuracy: 0.5110\n"
     ]
    }
   ],
   "source": [
    "#Compile\n",
    "model.compile(loss='categorical_crossentropy',optimizer ='adam',metrics=['accuracy'])\n",
    "model.summary()\n",
    "\n",
    "# Train\n",
    "batch_size = 16\n",
    "early_stopping =  EarlyStopping(patience=10, restore_best_weights=True)\n",
    "history = model.fit(X_train, y_train_onehot,batch_size=batch_size, epochs=100,\n",
    "                    validation_split=0.2, callbacks=[early_stopping])\n"
   ]
  },
  {
   "cell_type": "markdown",
   "metadata": {},
   "source": [
    "### Vergelijken met vorige modellen aan de hand van de plots\n",
    "(Zie plots uit stap 2 en 3)"
   ]
  },
  {
   "cell_type": "code",
   "execution_count": 19,
   "metadata": {},
   "outputs": [
    {
     "data": {
      "image/png": "[encoded data removed]",
      "text/plain": [
       "<Figure size 432x288 with 1 Axes>"
      ]
     },
     "metadata": {
      "needs_background": "light"
     },
     "output_type": "display_data"
    }
   ],
   "source": [
    "plt.plot( fit1.history['val_loss'],'g', fit2_aug.history['val_loss'],'r', history.history['val_loss'],'b')\n",
    "\n",
    "plt.title('model loss')\n",
    "plt.ylabel('loss')\n",
    "plt.xlabel('epoch')\n",
    "plt.legend(['model1', 'model2_aug', 'model3_transfer_learning'], loc='upper left')\n",
    "plt.show()"
   ]
  },
  {
   "cell_type": "markdown",
   "metadata": {},
   "source": [
    "**TODO: CONCLUSION**"
   ]
  },
  {
   "cell_type": "markdown",
   "metadata": {},
   "source": [
    "## 5. Uitvoeren op testset"
   ]
  },
  {
   "cell_type": "code",
   "execution_count": 20,
   "metadata": {},
   "outputs": [
    {
     "name": "stdout",
     "output_type": "stream",
     "text": [
      "              precision    recall  f1-score   support\n",
      "\n",
      "           0       0.34      0.42      0.38       530\n",
      "           1       0.49      0.51      0.50      1075\n",
      "           2       0.00      0.00      0.00        48\n",
      "           3       0.56      0.80      0.66      1563\n",
      "           4       0.66      0.69      0.68       391\n",
      "           5       0.00      0.00      0.00        31\n",
      "           6       0.72      0.65      0.69       622\n",
      "           7       0.00      0.00      0.00        33\n",
      "           8       0.00      0.00      0.00        28\n",
      "           9       0.64      0.48      0.55      1535\n",
      "          10       0.00      0.00      0.00       215\n",
      "          11       0.00      0.00      0.00        78\n",
      "\n",
      "    accuracy                           0.56      6149\n",
      "   macro avg       0.28      0.30      0.29      6149\n",
      "weighted avg       0.53      0.56      0.54      6149\n",
      "\n"
     ]
    }
   ],
   "source": [
    "test_predict = model.predict_classes(X_test)\n",
    "print(classification_report(y_test, test_predict))"
   ]
  },
  {
   "cell_type": "code",
   "execution_count": 21,
   "metadata": {},
   "outputs": [],
   "source": [
    "model.save(\"bestModel.h5\")"
   ]
  },
  {
   "cell_type": "code",
   "execution_count": null,
   "metadata": {},
   "outputs": [],
   "source": []
  }
 ],
 "metadata": {
  "kernelspec": {
   "display_name": "Python 3",
   "language": "python",
   "name": "python3"
  },
  "language_info": {
   "codemirror_mode": {
    "name": "ipython",
    "version": 3
   },
   "file_extension": ".py",
   "mimetype": "text/x-python",
   "name": "python",
   "nbconvert_exporter": "python",
   "pygments_lexer": "ipython3",
   "version": "3.8.5"
  }
 },
 "nbformat": 4,
 "nbformat_minor": 4
}
